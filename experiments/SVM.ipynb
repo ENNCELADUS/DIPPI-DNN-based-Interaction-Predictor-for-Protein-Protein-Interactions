{
 "cells": [
  {
   "cell_type": "markdown",
   "metadata": {},
   "source": [
    "## PCA+SVM"
   ]
  },
  {
   "cell_type": "code",
   "execution_count": 11,
   "metadata": {},
   "outputs": [],
   "source": [
    "# PCA+SVM\n",
    "import numpy as np\n",
    "import pandas as pd\n",
    "from pathlib import Path\n",
    "from sklearn.decomposition import PCA\n",
    "from sklearn.preprocessing import StandardScaler\n",
    "from sklearn.svm import SVC\n",
    "from sklearn.pipeline import Pipeline\n",
    "from sklearn.model_selection import GridSearchCV, StratifiedKFold,RandomizedSearchCV\n",
    "from sklearn.metrics import classification_report, roc_auc_score\n",
    "import os\n",
    "from scipy.stats import loguniform, randint\n",
    "from joblib import parallel_backend"
   ]
  },
  {
   "cell_type": "code",
   "execution_count": null,
   "metadata": {},
   "outputs": [],
   "source": [
    "train_df = pd.read_pickle(\"../B4PPI-main/data/medium_set/embeddings/train_data_with_embeddings.pkl\")\n",
    "#test1_df = pd.read_pickle(\"../B4PPI-main/data/medium_set/embeddings/val_data_with_embeddings.pkl\")\n"
   ]
  },
  {
   "cell_type": "code",
   "execution_count": 12,
   "metadata": {},
   "outputs": [],
   "source": [
    "train_df=pd.read_pickle('./first_three_rows.pkl')"
   ]
  },
  {
   "cell_type": "code",
   "execution_count": 14,
   "metadata": {},
   "outputs": [],
   "source": [
    "\n",
    "def mean_pool(embedding_3d: np.ndarray) -> np.ndarray:\n",
    "    \"\"\"\n",
    "    embedding_3d.shape == (seq_len, 960)\n",
    "    对序列维做平均池化，返回固定 960 维向量。\n",
    "    你也可以改成 max‑pool / attention‑pool 等。\n",
    "    \"\"\"\n",
    "    return embedding_3d.mean(axis=0)\n",
    "\n",
    "def build_feature_matrix(frame: pd.DataFrame) -> np.ndarray:\n",
    "    \"\"\"\n",
    "    ① 解析 A、B 两个 embedding  \n",
    "    ② 分别平均池化 → 960 维  \n",
    "    ③ 拼接成 1920 维\n",
    "    \"\"\"\n",
    "    pooled_A = []\n",
    "    pooled_B = []\n",
    "\n",
    "    for _, row in frame.iterrows():\n",
    "        #print(row[\"embedding_A\"])\n",
    "        emb_a = mean_pool(row[\"embedding_A\"][0])\n",
    "        emb_b = mean_pool(row[\"embedding_B\"][0])\n",
    "        pooled_A.append(emb_a)\n",
    "        pooled_B.append(emb_b)\n",
    "\n",
    "    pooled_A = np.vstack(pooled_A)          # (n, 960)\n",
    "    pooled_B = np.vstack(pooled_B)          # (n, 960)\n",
    "    return np.hstack([pooled_A, pooled_B])  # (n, 1920)\n",
    "\n",
    "def load_or_build(name, builder,num): #save \n",
    "    fname = f\"{name}_{num}.npy\"\n",
    "    if os.path.exists(fname):\n",
    "        return np.load(fname)\n",
    "    arr = builder()\n",
    "    np.save(fname, arr)\n",
    "    return arr\n",
    "\n"
   ]
  },
  {
   "cell_type": "code",
   "execution_count": null,
   "metadata": {},
   "outputs": [
    {
     "name": "stdout",
     "output_type": "stream",
     "text": [
      "Train shape: (10000, 1920)\n"
     ]
    }
   ],
   "source": [
    "\n",
    "num=1\n",
    "X_train = load_or_build(\"X_train\", lambda: build_feature_matrix(train_df),num)\n",
    "y_train = load_or_build(\"y_train\", lambda: train_df[\"isInteraction\"].values.astype(int),num)\n",
    "print(f\"Train shape: {X_train.shape}\")\n"
   ]
  },
  {
   "cell_type": "code",
   "execution_count": null,
   "metadata": {},
   "outputs": [
    {
     "name": "stdout",
     "output_type": "stream",
     "text": [
      "Searching best hyper-parameters ......\n",
      "Fitting 5 folds for each of 50 candidates, totalling 250 fits\n",
      "Best parameters: {'svm__C': np.float64(6.403036652671167), 'svm__degree': 4, 'svm__gamma': np.float64(0.00019069601332062687), 'svm__kernel': 'rbf'}\n",
      "Best AUC: 0.6284645999999999\n"
     ]
    }
   ],
   "source": [
    "# ────────────────────────────────────────────────────────────────\n",
    "# 2. bulid pipe：StandardScaler --> PCA --> SVM\n",
    "# ────────────────────────────────────────────────────────────────\n",
    "\n",
    "\n",
    "\n",
    "# 1. 构建管道：StandardScaler --> PCA --> SVM\n",
    "pca = PCA(n_components=0.95, svd_solver=\"full\", random_state=42)\n",
    "svm = SVC(probability=True, random_state=42)\n",
    "\n",
    "pipe = Pipeline([\n",
    "    (\"scaler\", StandardScaler()),\n",
    "    (\"pca\",    pca),\n",
    "    (\"svm\",    svm),\n",
    "])\n",
    "\n",
    "# 2. 定义超参数空间\n",
    "param_dist = {\n",
    "    \"svm__C\"      : loguniform(0.01, 1000),\n",
    "    \"svm__kernel\" : ['linear', 'poly', 'rbf', 'sigmoid'],\n",
    "    \"svm__degree\" : randint(2, 6),\n",
    "    \"svm__gamma\"  : loguniform(1e-5, 1),\n",
    "}\n",
    "\n",
    "# 3. 交叉验证设置\n",
    "cv = StratifiedKFold(n_splits=5, shuffle=True, random_state=42)\n",
    "\n",
    "# 4. 随机搜索超参 (限制进程数 + 控制预调度)\n",
    "search = RandomizedSearchCV(\n",
    "    pipe,\n",
    "    param_distributions=param_dist,\n",
    "    n_iter=50,\n",
    "    cv=cv,\n",
    "    scoring=\"roc_auc\",\n",
    "    n_jobs=4,                    # <= i7 的物理/逻辑核数\n",
    "    pre_dispatch=\"4*n_jobs\",     # 控制同时分发的任务数\n",
    "    verbose=1,\n",
    "    random_state=42\n",
    ")\n",
    "\n",
    "print(\"Searching best hyper-parameters ......\")\n",
    "\n",
    "# 5. （可选）如果多进程仍有问题，改用线程后端\n",
    "with parallel_backend('threading', n_jobs=4):\n",
    "    search.fit(X_train, y_train)\n",
    "\n",
    "# 6. 输出结果\n",
    "best_model = search.best_estimator_\n",
    "print(\"Best parameters:\", search.best_params_)\n",
    "print(\"Best AUC:\", search.best_score_)\n",
    "\n",
    "#----------------\n",
    "\n"
   ]
  },
  {
   "cell_type": "code",
   "execution_count": 17,
   "metadata": {},
   "outputs": [],
   "source": [
    "import joblib\n",
    "\n",
    "# 训练完毕后，保存最优模型（Pipeline）\n",
    "joblib.dump(best_model, \"svm_pipeline.pkl\")\n",
    "\n",
    "# 如果你还想保存整个 GridSearchCV 对象（便于之后直接调用 search.predict 等）\n",
    "joblib.dump(search, \"grid_search_svm.pkl\")\n",
    "\n",
    "# ——加载时——\n",
    "loaded_model = joblib.load(\"svm_pipeline.pkl\")\n",
    "# 或者\n",
    "loaded_search = joblib.load(\"grid_search_svm.pkl\")\n",
    "best_pipeline = loaded_search.best_estimator_\n"
   ]
  },
  {
   "cell_type": "code",
   "execution_count": 7,
   "metadata": {},
   "outputs": [],
   "source": [
    "test1_df = pd.read_pickle(\"../B4PPI-main/data/medium_set/embeddings/test1_data_with_embeddings.pkl\")\n"
   ]
  },
  {
   "cell_type": "code",
   "execution_count": 18,
   "metadata": {},
   "outputs": [],
   "source": [
    "test1_df=pd.read_pickle('./first_three_rows.pkl')"
   ]
  },
  {
   "cell_type": "code",
   "execution_count": 19,
   "metadata": {},
   "outputs": [
    {
     "name": "stdout",
     "output_type": "stream",
     "text": [
      "Val shape:   (2000, 1920)\n"
     ]
    }
   ],
   "source": [
    "\n",
    "X_test1   = load_or_build(\"X_test1\",   lambda: build_feature_matrix(test1_df),num)\n",
    "y_test1   = load_or_build(\"y_test1\",   lambda: test1_df[\"isInteraction\"].values.astype(int),num)\n",
    "print(f\"Val shape:   {X_test1.shape}\")"
   ]
  },
  {
   "cell_type": "code",
   "execution_count": 20,
   "metadata": {},
   "outputs": [
    {
     "name": "stdout",
     "output_type": "stream",
     "text": [
      "\n",
      "=== Classification report (validation) ===\n",
      "              precision    recall  f1-score   support\n",
      "\n",
      "           0     0.5702    0.5280    0.5483      1000\n",
      "           1     0.5605    0.6020    0.5805      1000\n",
      "\n",
      "    accuracy                         0.5650      2000\n",
      "   macro avg     0.5654    0.5650    0.5644      2000\n",
      "weighted avg     0.5654    0.5650    0.5644      2000\n",
      "\n",
      "Validation ROC-AUC: 0.5650\n"
     ]
    }
   ],
   "source": [
    "y_test1_pred  = best_model.predict(X_test1)\n",
    "y_test1_prob  = best_model.predict_proba(X_test1)[:, 1]\n",
    "\n",
    "print(\"\\n=== Classification report (validation) ===\")\n",
    "print(classification_report(y_test1, y_test1_pred, digits=4))\n",
    "\n",
    "test1_auc = roc_auc_score(y_test1, y_test1_pred)\n",
    "print(f\"Validation ROC-AUC: {test1_auc:.4f}\")\n"
   ]
  },
  {
   "cell_type": "code",
   "execution_count": 21,
   "metadata": {},
   "outputs": [],
   "source": [
    "\n",
    "test2_df = pd.read_pickle(\"../B4PPI-main/data/medium_set/embeddings/test2_data_with_embeddings.pkl\")\n"
   ]
  },
  {
   "cell_type": "code",
   "execution_count": null,
   "metadata": {},
   "outputs": [],
   "source": [
    "test2_df=pd.read_pickle('./first_three_rows.pkl')"
   ]
  },
  {
   "cell_type": "code",
   "execution_count": 22,
   "metadata": {},
   "outputs": [
    {
     "name": "stdout",
     "output_type": "stream",
     "text": [
      "Test shape:  (10000, 1920)\n"
     ]
    }
   ],
   "source": [
    "\n",
    "X_test2  = load_or_build(\"X_test2\",  lambda: build_feature_matrix(test2_df),num)\n",
    "y_test2  = load_or_build(\"y_test2\",  lambda: test2_df[\"isInteraction\"].values.astype(int),num)\n",
    "print(f\"Test shape:  {X_test2.shape}\")\n"
   ]
  },
  {
   "cell_type": "code",
   "execution_count": 23,
   "metadata": {},
   "outputs": [
    {
     "name": "stdout",
     "output_type": "stream",
     "text": [
      "\n",
      "=== Classification report (test) ===\n",
      "              precision    recall  f1-score   support\n",
      "\n",
      "           0     0.9403    0.5591    0.7013      9100\n",
      "           1     0.1257    0.6411    0.2102       900\n",
      "\n",
      "    accuracy                         0.5665     10000\n",
      "   macro avg     0.5330    0.6001    0.4557     10000\n",
      "weighted avg     0.8670    0.5665    0.6571     10000\n",
      "\n",
      "Test ROC‑AUC: 0.6001\n"
     ]
    }
   ],
   "source": [
    "\n",
    "y_test2_pred   = best_model.predict(X_test2)\n",
    "y_test2_proba  = best_model.predict_proba(X_test2)[:, 1]\n",
    "\n",
    "print(\"\\n=== Classification report (test) ===\")\n",
    "print(classification_report(y_test2, y_test2_pred , digits=4))\n",
    "\n",
    "test2_auc = roc_auc_score(y_test2, y_test2_pred)\n",
    "print(f\"Test ROC‑AUC: {test2_auc:.4f}\")\n"
   ]
  }
 ],
 "metadata": {
  "kernelspec": {
   "display_name": "base",
   "language": "python",
   "name": "python3"
  },
  "language_info": {
   "codemirror_mode": {
    "name": "ipython",
    "version": 3
   },
   "file_extension": ".py",
   "mimetype": "text/x-python",
   "name": "python",
   "nbconvert_exporter": "python",
   "pygments_lexer": "ipython3",
   "version": "3.12.9"
  }
 },
 "nbformat": 4,
 "nbformat_minor": 2
}

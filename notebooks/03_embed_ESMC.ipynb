{
 "cells": [
  {
   "cell_type": "code",
   "execution_count": 1,
   "metadata": {},
   "outputs": [
    {
     "name": "stderr",
     "output_type": "stream",
     "text": [
      "/home/richard/miniconda3/envs/esm/lib/python3.10/site-packages/tqdm/auto.py:21: TqdmWarning: IProgress not found. Please update jupyter and ipywidgets. See https://ipywidgets.readthedocs.io/en/stable/user_install.html\n",
      "  from .autonotebook import tqdm as notebook_tqdm\n"
     ]
    }
   ],
   "source": [
    "import pandas as pd\n",
    "import numpy as np\n",
    "import os\n",
    "from sklearn.model_selection import train_test_split\n",
    "import torch\n",
    "import matplotlib.pyplot as plt\n",
    "from tqdm.auto import tqdm\n",
    "import pickle\n",
    "import gc"
   ]
  },
  {
   "cell_type": "code",
   "execution_count": 2,
   "metadata": {},
   "outputs": [
    {
     "name": "stdout",
     "output_type": "stream",
     "text": [
      "Loading full dataset...\n"
     ]
    },
    {
     "data": {
      "text/html": [
       "<div>\n",
       "<style scoped>\n",
       "    .dataframe tbody tr th:only-of-type {\n",
       "        vertical-align: middle;\n",
       "    }\n",
       "\n",
       "    .dataframe tbody tr th {\n",
       "        vertical-align: top;\n",
       "    }\n",
       "\n",
       "    .dataframe thead th {\n",
       "        text-align: right;\n",
       "    }\n",
       "</style>\n",
       "<table border=\"1\" class=\"dataframe\">\n",
       "  <thead>\n",
       "    <tr style=\"text-align: right;\">\n",
       "      <th></th>\n",
       "      <th>uniprotID_A</th>\n",
       "      <th>uniprotID_B</th>\n",
       "      <th>isInteraction</th>\n",
       "      <th>trainTest</th>\n",
       "      <th>RNAseqHPA</th>\n",
       "      <th>tissueHPA</th>\n",
       "      <th>tissueCellHPA</th>\n",
       "      <th>subcellularLocationHPA</th>\n",
       "      <th>bioProcessUniprot</th>\n",
       "      <th>cellCompUniprot</th>\n",
       "      <th>molFuncUniprot</th>\n",
       "      <th>domainUniprot</th>\n",
       "      <th>motifUniprot</th>\n",
       "      <th>Bgee</th>\n",
       "      <th>sequence_A</th>\n",
       "      <th>sequence_B</th>\n",
       "    </tr>\n",
       "  </thead>\n",
       "  <tbody>\n",
       "    <tr>\n",
       "      <th>0</th>\n",
       "      <td>P28223</td>\n",
       "      <td>P41595</td>\n",
       "      <td>1</td>\n",
       "      <td>test2</td>\n",
       "      <td>0.160188</td>\n",
       "      <td>-0.449930</td>\n",
       "      <td>-0.060381</td>\n",
       "      <td>NaN</td>\n",
       "      <td>0.400892</td>\n",
       "      <td>0.404061</td>\n",
       "      <td>0.680414</td>\n",
       "      <td>0.0</td>\n",
       "      <td>0.790569</td>\n",
       "      <td>0.422078</td>\n",
       "      <td>MDILCEENTSLSSTTNSLMQLNDDTRLYSNDFNSGEANTSDAFNWT...</td>\n",
       "      <td>MALSYRVSELQSTIPEHILQSTFVHVISSNWSGLQTESIPEEMKQI...</td>\n",
       "    </tr>\n",
       "    <tr>\n",
       "      <th>1</th>\n",
       "      <td>O00161</td>\n",
       "      <td>P56962</td>\n",
       "      <td>1</td>\n",
       "      <td>train</td>\n",
       "      <td>0.825131</td>\n",
       "      <td>0.851690</td>\n",
       "      <td>0.675880</td>\n",
       "      <td>0.0</td>\n",
       "      <td>0.190693</td>\n",
       "      <td>0.200000</td>\n",
       "      <td>0.353553</td>\n",
       "      <td>0.0</td>\n",
       "      <td>0.000000</td>\n",
       "      <td>0.922975</td>\n",
       "      <td>MDNLSSEEIQQRAHQITDESLESTRRILGLAIESQDAGIKTITMLD...</td>\n",
       "      <td>MSEDEEKVKLRRLEPAIQKFIKIVIPTDLERLRKHQINIEKYQRCR...</td>\n",
       "    </tr>\n",
       "    <tr>\n",
       "      <th>2</th>\n",
       "      <td>P82979</td>\n",
       "      <td>Q01081</td>\n",
       "      <td>1</td>\n",
       "      <td>train</td>\n",
       "      <td>0.930790</td>\n",
       "      <td>0.954869</td>\n",
       "      <td>0.911887</td>\n",
       "      <td>0.0</td>\n",
       "      <td>0.547723</td>\n",
       "      <td>0.365148</td>\n",
       "      <td>0.408248</td>\n",
       "      <td>0.0</td>\n",
       "      <td>0.000000</td>\n",
       "      <td>NaN</td>\n",
       "      <td>MATETVELHKLKLAELKQECLARGLETKGIKQDLIHRLQAYLEEHA...</td>\n",
       "      <td>MAEYLASIFGTEKDKVNCSFYFKIGACRHGDRCSRLHNKPTFSQTI...</td>\n",
       "    </tr>\n",
       "    <tr>\n",
       "      <th>3</th>\n",
       "      <td>O60678</td>\n",
       "      <td>Q14524</td>\n",
       "      <td>1</td>\n",
       "      <td>train</td>\n",
       "      <td>0.219384</td>\n",
       "      <td>NaN</td>\n",
       "      <td>NaN</td>\n",
       "      <td>NaN</td>\n",
       "      <td>0.000000</td>\n",
       "      <td>0.000000</td>\n",
       "      <td>0.000000</td>\n",
       "      <td>0.0</td>\n",
       "      <td>0.000000</td>\n",
       "      <td>NaN</td>\n",
       "      <td>MCSLASGATGGRGAVENEEDLPELSDSGDEAAWEDEDDADLPHGKQ...</td>\n",
       "      <td>MANFLLPRGTSSFRRFTRESLAAIEKRMAEKQARGSTTLQESREGL...</td>\n",
       "    </tr>\n",
       "    <tr>\n",
       "      <th>4</th>\n",
       "      <td>P10275</td>\n",
       "      <td>Q15648</td>\n",
       "      <td>1</td>\n",
       "      <td>train</td>\n",
       "      <td>0.500558</td>\n",
       "      <td>-0.311704</td>\n",
       "      <td>-0.371061</td>\n",
       "      <td>0.0</td>\n",
       "      <td>0.169811</td>\n",
       "      <td>0.375000</td>\n",
       "      <td>0.157895</td>\n",
       "      <td>0.0</td>\n",
       "      <td>0.000000</td>\n",
       "      <td>NaN</td>\n",
       "      <td>MEVQLGLGRVYPRPPSKTYRGAFQNLFQSVREVIQNPGPRHPEAAS...</td>\n",
       "      <td>MKAQGETEESEKLSKMSSLLERLHAKFNQNRPWSETIKLVRQVMEK...</td>\n",
       "    </tr>\n",
       "  </tbody>\n",
       "</table>\n",
       "</div>"
      ],
      "text/plain": [
       "  uniprotID_A uniprotID_B  isInteraction trainTest  RNAseqHPA  tissueHPA  \\\n",
       "0      P28223      P41595              1     test2   0.160188  -0.449930   \n",
       "1      O00161      P56962              1     train   0.825131   0.851690   \n",
       "2      P82979      Q01081              1     train   0.930790   0.954869   \n",
       "3      O60678      Q14524              1     train   0.219384        NaN   \n",
       "4      P10275      Q15648              1     train   0.500558  -0.311704   \n",
       "\n",
       "   tissueCellHPA  subcellularLocationHPA  bioProcessUniprot  cellCompUniprot  \\\n",
       "0      -0.060381                     NaN           0.400892         0.404061   \n",
       "1       0.675880                     0.0           0.190693         0.200000   \n",
       "2       0.911887                     0.0           0.547723         0.365148   \n",
       "3            NaN                     NaN           0.000000         0.000000   \n",
       "4      -0.371061                     0.0           0.169811         0.375000   \n",
       "\n",
       "   molFuncUniprot  domainUniprot  motifUniprot      Bgee  \\\n",
       "0        0.680414            0.0      0.790569  0.422078   \n",
       "1        0.353553            0.0      0.000000  0.922975   \n",
       "2        0.408248            0.0      0.000000       NaN   \n",
       "3        0.000000            0.0      0.000000       NaN   \n",
       "4        0.157895            0.0      0.000000       NaN   \n",
       "\n",
       "                                          sequence_A  \\\n",
       "0  MDILCEENTSLSSTTNSLMQLNDDTRLYSNDFNSGEANTSDAFNWT...   \n",
       "1  MDNLSSEEIQQRAHQITDESLESTRRILGLAIESQDAGIKTITMLD...   \n",
       "2  MATETVELHKLKLAELKQECLARGLETKGIKQDLIHRLQAYLEEHA...   \n",
       "3  MCSLASGATGGRGAVENEEDLPELSDSGDEAAWEDEDDADLPHGKQ...   \n",
       "4  MEVQLGLGRVYPRPPSKTYRGAFQNLFQSVREVIQNPGPRHPEAAS...   \n",
       "\n",
       "                                          sequence_B  \n",
       "0  MALSYRVSELQSTIPEHILQSTFVHVISSNWSGLQTESIPEEMKQI...  \n",
       "1  MSEDEEKVKLRRLEPAIQKFIKIVIPTDLERLRKHQINIEKYQRCR...  \n",
       "2  MAEYLASIFGTEKDKVNCSFYFKIGACRHGDRCSRLHNKPTFSQTI...  \n",
       "3  MANFLLPRGTSSFRRFTRESLAAIEKRMAEKQARGSTTLQESREGL...  \n",
       "4  MKAQGETEESEKLSKMSSLLERLHAKFNQNRPWSETIKLVRQVMEK...  "
      ]
     },
     "metadata": {},
     "output_type": "display_data"
    },
    {
     "data": {
      "text/html": [
       "<div>\n",
       "<style scoped>\n",
       "    .dataframe tbody tr th:only-of-type {\n",
       "        vertical-align: middle;\n",
       "    }\n",
       "\n",
       "    .dataframe tbody tr th {\n",
       "        vertical-align: top;\n",
       "    }\n",
       "\n",
       "    .dataframe thead th {\n",
       "        text-align: right;\n",
       "    }\n",
       "</style>\n",
       "<table border=\"1\" class=\"dataframe\">\n",
       "  <thead>\n",
       "    <tr style=\"text-align: right;\">\n",
       "      <th></th>\n",
       "      <th>uniprotID_A</th>\n",
       "      <th>uniprotID_B</th>\n",
       "      <th>isInteraction</th>\n",
       "      <th>trainTest</th>\n",
       "      <th>sequence_A</th>\n",
       "      <th>sequence_B</th>\n",
       "    </tr>\n",
       "  </thead>\n",
       "  <tbody>\n",
       "    <tr>\n",
       "      <th>0</th>\n",
       "      <td>P28223</td>\n",
       "      <td>P41595</td>\n",
       "      <td>1</td>\n",
       "      <td>test2</td>\n",
       "      <td>MDILCEENTSLSSTTNSLMQLNDDTRLYSNDFNSGEANTSDAFNWT...</td>\n",
       "      <td>MALSYRVSELQSTIPEHILQSTFVHVISSNWSGLQTESIPEEMKQI...</td>\n",
       "    </tr>\n",
       "    <tr>\n",
       "      <th>1</th>\n",
       "      <td>O00161</td>\n",
       "      <td>P56962</td>\n",
       "      <td>1</td>\n",
       "      <td>train</td>\n",
       "      <td>MDNLSSEEIQQRAHQITDESLESTRRILGLAIESQDAGIKTITMLD...</td>\n",
       "      <td>MSEDEEKVKLRRLEPAIQKFIKIVIPTDLERLRKHQINIEKYQRCR...</td>\n",
       "    </tr>\n",
       "    <tr>\n",
       "      <th>2</th>\n",
       "      <td>P82979</td>\n",
       "      <td>Q01081</td>\n",
       "      <td>1</td>\n",
       "      <td>train</td>\n",
       "      <td>MATETVELHKLKLAELKQECLARGLETKGIKQDLIHRLQAYLEEHA...</td>\n",
       "      <td>MAEYLASIFGTEKDKVNCSFYFKIGACRHGDRCSRLHNKPTFSQTI...</td>\n",
       "    </tr>\n",
       "    <tr>\n",
       "      <th>3</th>\n",
       "      <td>O60678</td>\n",
       "      <td>Q14524</td>\n",
       "      <td>1</td>\n",
       "      <td>train</td>\n",
       "      <td>MCSLASGATGGRGAVENEEDLPELSDSGDEAAWEDEDDADLPHGKQ...</td>\n",
       "      <td>MANFLLPRGTSSFRRFTRESLAAIEKRMAEKQARGSTTLQESREGL...</td>\n",
       "    </tr>\n",
       "    <tr>\n",
       "      <th>4</th>\n",
       "      <td>P10275</td>\n",
       "      <td>Q15648</td>\n",
       "      <td>1</td>\n",
       "      <td>train</td>\n",
       "      <td>MEVQLGLGRVYPRPPSKTYRGAFQNLFQSVREVIQNPGPRHPEAAS...</td>\n",
       "      <td>MKAQGETEESEKLSKMSSLLERLHAKFNQNRPWSETIKLVRQVMEK...</td>\n",
       "    </tr>\n",
       "  </tbody>\n",
       "</table>\n",
       "</div>"
      ],
      "text/plain": [
       "  uniprotID_A uniprotID_B  isInteraction trainTest  \\\n",
       "0      P28223      P41595              1     test2   \n",
       "1      O00161      P56962              1     train   \n",
       "2      P82979      Q01081              1     train   \n",
       "3      O60678      Q14524              1     train   \n",
       "4      P10275      Q15648              1     train   \n",
       "\n",
       "                                          sequence_A  \\\n",
       "0  MDILCEENTSLSSTTNSLMQLNDDTRLYSNDFNSGEANTSDAFNWT...   \n",
       "1  MDNLSSEEIQQRAHQITDESLESTRRILGLAIESQDAGIKTITMLD...   \n",
       "2  MATETVELHKLKLAELKQECLARGLETKGIKQDLIHRLQAYLEEHA...   \n",
       "3  MCSLASGATGGRGAVENEEDLPELSDSGDEAAWEDEDDADLPHGKQ...   \n",
       "4  MEVQLGLGRVYPRPPSKTYRGAFQNLFQSVREVIQNPGPRHPEAAS...   \n",
       "\n",
       "                                          sequence_B  \n",
       "0  MALSYRVSELQSTIPEHILQSTFVHVISSNWSGLQTESIPEEMKQI...  \n",
       "1  MSEDEEKVKLRRLEPAIQKFIKIVIPTDLERLRKHQINIEKYQRCR...  \n",
       "2  MAEYLASIFGTEKDKVNCSFYFKIGACRHGDRCSRLHNKPTFSQTI...  \n",
       "3  MANFLLPRGTSSFRRFTRESLAAIEKRMAEKQARGSTTLQESREGL...  \n",
       "4  MKAQGETEESEKLSKMSSLLERLHAKFNQNRPWSETIKLVRQVMEK...  "
      ]
     },
     "metadata": {},
     "output_type": "display_data"
    },
    {
     "name": "stdout",
     "output_type": "stream",
     "text": [
      "\n",
      "--- Full Dataset Statistics ---\n"
     ]
    }
   ],
   "source": [
    "# Get the absolute path of the current notebook\n",
    "notebook_path = os.path.abspath('')\n",
    "\n",
    "# Navigate to the project root (CS182-Final-Project)\n",
    "project_root = os.path.dirname(notebook_path)\n",
    "os.chdir(project_root)\n",
    "\n",
    "# Now you can load the data using relative path from project root\n",
    "print(\"Loading full dataset...\")\n",
    "full_data = pd.read_pickle('./data/benchmarkingGS_v1-0_similarityMeasure_sequence_v3-1.pkl')\n",
    "display(full_data.head())\n",
    "\n",
    "\n",
    "# Keep only the required columns\n",
    "columns_to_keep = ['uniprotID_A', 'uniprotID_B', 'isInteraction', 'trainTest', 'sequence_A', 'sequence_B']\n",
    "data = full_data[columns_to_keep]\n",
    "display(data.head())\n",
    "\n",
    "# Calculate dataset statistics\n",
    "print(\"\\n--- Full Dataset Statistics ---\")"
   ]
  },
  {
   "cell_type": "code",
   "execution_count": 3,
   "metadata": {},
   "outputs": [
    {
     "name": "stdout",
     "output_type": "stream",
     "text": [
      "Found 12026 unique proteins\n",
      "Unique proteins saved to 'data/full_dataset/unique_proteins.pkl'\n"
     ]
    }
   ],
   "source": [
    "def get_unique_proteins(df):\n",
    "    unique_proteins = {}\n",
    "    \n",
    "    for _, row in df.iterrows():\n",
    "        protein_A_id = row['uniprotID_A']\n",
    "        protein_A_seq = row['sequence_A']\n",
    "        if protein_A_id not in unique_proteins:\n",
    "            unique_proteins[protein_A_id] = protein_A_seq\n",
    "            \n",
    "        protein_B_id = row['uniprotID_B']\n",
    "        protein_B_seq = row['sequence_B']\n",
    "        if protein_B_id not in unique_proteins:\n",
    "            unique_proteins[protein_B_id] = protein_B_seq\n",
    "            \n",
    "    return unique_proteins\n",
    "\n",
    "\n",
    "unique_proteins_dict = get_unique_proteins(data)\n",
    "\n",
    "# Print how many unique proteins were found\n",
    "print(f\"Found {len(unique_proteins_dict)} unique proteins\")\n",
    "\n",
    "# Save to pickle file\n",
    "os.makedirs('data/full_dataset', exist_ok=True)\n",
    "with open('data/full_dataset/unique_proteins.pkl', 'wb') as f:\n",
    "    pickle.dump(unique_proteins_dict, f)\n",
    "\n",
    "print(\"Unique proteins saved to 'data/full_dataset/unique_proteins.pkl'\")\n",
    "\n"
   ]
  },
  {
   "cell_type": "markdown",
   "metadata": {},
   "source": [
    "## Encode proteins with ESM C"
   ]
  },
  {
   "cell_type": "code",
   "execution_count": 4,
   "metadata": {},
   "outputs": [
    {
     "name": "stdout",
     "output_type": "stream",
     "text": [
      "Attempting to set memory fraction to 0.7 for GPU 0\n",
      "Call to set_per_process_memory_fraction for GPU 0 completed.\n"
     ]
    },
    {
     "name": "stderr",
     "output_type": "stream",
     "text": [
      "Fetching 4 files: 100%|██████████| 4/4 [00:00<00:00, 101067.57it/s]\n"
     ]
    },
    {
     "name": "stdout",
     "output_type": "stream",
     "text": [
      "[ESM-C] Loaded locally on cuda\n"
     ]
    }
   ],
   "source": [
    "from esm.models.esmc import ESMC\n",
    "from esm.sdk.api import ESMProtein, LogitsConfig\n",
    "\n",
    "device = \"cuda\" if torch.cuda.is_available() else \"cpu\"\n",
    "\n",
    "if torch.cuda.is_available():\n",
    "    target_gpu_index_for_fraction = 0\n",
    "\n",
    "    print(f\"Attempting to set memory fraction to 0.7 for GPU {target_gpu_index_for_fraction}\")\n",
    "    torch.cuda.set_per_process_memory_fraction(0.7, device=target_gpu_index_for_fraction)\n",
    "    print(f\"Call to set_per_process_memory_fraction for GPU {target_gpu_index_for_fraction} completed.\")\n",
    "\n",
    "model = ESMC.from_pretrained(\"esmc_300m\").to(device)\n",
    "print(f\"[ESM-C] Loaded locally on {device}\")\n",
    "model_type = \"local\""
   ]
  },
  {
   "cell_type": "code",
   "execution_count": 5,
   "metadata": {},
   "outputs": [],
   "source": [
    "def get_protein_embedding(sequence):\n",
    "    \"\"\"\n",
    "    Get protein embedding for a given sequence using the loaded ESM model.\n",
    "    Optimized with torch.no_grad() for inference.\n",
    "    \"\"\"\n",
    "    with torch.no_grad():  # Ensures no gradients are computed for model operations\n",
    "        protein = ESMProtein(sequence=sequence)\n",
    "        protein_tensor = model.encode(protein)  # Model inference step\n",
    "        logits_output = model.logits(           # Model inference step\n",
    "            protein_tensor,\n",
    "            LogitsConfig(sequence=False, return_embeddings=True)\n",
    "        )\n",
    "        # Get the per-protein representation by mean-pooling across sequence length\n",
    "        embedding = logits_output.embeddings\n",
    "        # Remove the batch dimension (first dimension)\n",
    "        embedding = embedding.squeeze(0)\n",
    "    return embedding.cpu().to(dtype=torch.float16)\n"
   ]
  },
  {
   "cell_type": "code",
   "execution_count": 6,
   "metadata": {},
   "outputs": [],
   "source": [
    "# Cell 2: Efficient protein embedding function\n",
    "def embed_proteins_efficiently(proteins_dict, output_path='data/full_dataset/embeddings', batch_size=100):\n",
    "    \"\"\"\n",
    "    Efficiently embeds proteins and saves with minimal storage requirements.\n",
    "    \n",
    "    Args:\n",
    "        proteins_dict: Dictionary of protein IDs and sequences\n",
    "        output_path: Directory to save embeddings\n",
    "        batch_size: Number of proteins to process in each batch\n",
    "    \"\"\"\n",
    "    # Create output directory if it doesn't exist\n",
    "    os.makedirs(output_path, exist_ok=True)\n",
    "    \n",
    "    # Track proteins processed\n",
    "    total_proteins = len(proteins_dict)\n",
    "    proteins_processed = 0\n",
    "    \n",
    "    # Process proteins in batches to manage memory\n",
    "    protein_ids = list(proteins_dict.keys())\n",
    "    \n",
    "    # Set up storage stats tracking\n",
    "    total_bytes = 0\n",
    "    \n",
    "    # Process in batches\n",
    "    for i in range(0, total_proteins, batch_size):\n",
    "        batch_ids = protein_ids[i:i+batch_size]\n",
    "        batch_embeddings = {}\n",
    "        \n",
    "        # Process each protein in the batch\n",
    "        for protein_id in tqdm(batch_ids, desc=f\"Processing batch {i//batch_size + 1}/{(total_proteins-1)//batch_size + 1}\"):\n",
    "            sequence = proteins_dict[protein_id]\n",
    "            \n",
    "            # Get embedding using your function that returns float16 tensors\n",
    "            embedding = get_protein_embedding(sequence)\n",
    "            \n",
    "            # Store in batch dictionary\n",
    "            batch_embeddings[protein_id] = embedding\n",
    "            proteins_processed += 1\n",
    "        \n",
    "        # Save this batch with compression\n",
    "        batch_filename = os.path.join(output_path, f\"embeddings_batch_{i//batch_size + 1}.pt\")\n",
    "        torch.save(batch_embeddings, batch_filename, _use_new_zipfile_serialization=True)\n",
    "        \n",
    "        # Get file size and add to total\n",
    "        batch_size_bytes = os.path.getsize(batch_filename)\n",
    "        total_bytes += batch_size_bytes\n",
    "        \n",
    "        print(f\"Saved batch {i//batch_size + 1} ({len(batch_ids)} proteins): {batch_size_bytes/1024/1024:.2f} MB\")\n",
    "        \n",
    "        # Free up memory\n",
    "        del batch_embeddings\n",
    "        torch.cuda.empty_cache() if torch.cuda.is_available() else None\n",
    "        \n",
    "    # Save a manifest file with protein IDs and their batch locations\n",
    "    manifest = {protein_id: f\"embeddings_batch_{i//batch_size + 1}.pt\" \n",
    "                for i, protein_id in enumerate(protein_ids)}\n",
    "    \n",
    "    with open(os.path.join(output_path, \"embeddings_manifest.pkl\"), \"wb\") as f:\n",
    "        pickle.dump(manifest, f)\n",
    "    \n",
    "    print(f\"\\nEmbedding complete: {proteins_processed} proteins processed\")\n",
    "    print(f\"Total storage used: {total_bytes/1024/1024/1024:.2f} GB\")\n",
    "    print(f\"Average size per protein: {total_bytes/proteins_processed/1024:.2f} KB\")"
   ]
  },
  {
   "cell_type": "code",
   "execution_count": 7,
   "metadata": {},
   "outputs": [],
   "source": [
    "# Cell 3: Loading function\n",
    "def load_protein_embedding(protein_id, embeddings_dir='data/full_dataset/embeddings'):\n",
    "    \"\"\"\n",
    "    Efficiently load a single protein embedding when needed.\n",
    "    \"\"\"\n",
    "    manifest_path = os.path.join(embeddings_dir, \"embeddings_manifest.pkl\")\n",
    "    with open(manifest_path, \"rb\") as f:\n",
    "        manifest = pickle.load(f)\n",
    "    \n",
    "    if protein_id not in manifest:\n",
    "        raise KeyError(f\"Protein ID {protein_id} not found in embeddings manifest\")\n",
    "    \n",
    "    batch_file = manifest[protein_id]\n",
    "    batch_path = os.path.join(embeddings_dir, batch_file)\n",
    "    \n",
    "    # Load only the specific batch file\n",
    "    batch_data = torch.load(batch_path)\n",
    "    \n",
    "    # Return the specific embedding\n",
    "    return batch_data[protein_id]"
   ]
  },
  {
   "cell_type": "code",
   "execution_count": 16,
   "metadata": {},
   "outputs": [],
   "source": [
    "# Cell 4: Low memory implementation\n",
    "def embed_proteins_low_memory(proteins_dict, output_path='data/full_dataset/embeddings', batch_size=10, \n",
    "                             start_batch=0, max_proteins_per_run=None):\n",
    "    \"\"\"\n",
    "    Low-memory implementation to embed proteins and save them efficiently.\n",
    "    Can resume from a specific batch and limits proteins processed in a single run.\n",
    "    \"\"\"\n",
    "    # Create output directory if it doesn't exist\n",
    "    os.makedirs(output_path, exist_ok=True)\n",
    "    \n",
    "    # Track proteins processed\n",
    "    total_proteins = len(proteins_dict)\n",
    "    proteins_processed = 0\n",
    "    \n",
    "    # Process proteins in batches to manage memory\n",
    "    protein_ids = list(proteins_dict.keys())\n",
    "    \n",
    "    # Load existing manifest if starting from a later batch\n",
    "    manifest_path = os.path.join(output_path, \"embeddings_manifest.pkl\")\n",
    "    if start_batch > 0 and os.path.exists(manifest_path):\n",
    "        with open(manifest_path, \"rb\") as f:\n",
    "            manifest = pickle.load(f)\n",
    "    else:\n",
    "        manifest = {}\n",
    "    \n",
    "    # Set up storage stats tracking\n",
    "    total_bytes = 0\n",
    "    \n",
    "    # Apply limit if specified\n",
    "    if max_proteins_per_run is not None:\n",
    "        end_batch = min(start_batch + (max_proteins_per_run // batch_size) + 1, \n",
    "                       (total_proteins // batch_size) + 1)\n",
    "    else:\n",
    "        end_batch = (total_proteins // batch_size) + 1\n",
    "    \n",
    "    print(f\"Will process from batch {start_batch+1} to {end_batch} (of {(total_proteins-1)//batch_size + 1} total)\")\n",
    "    \n",
    "    # Process in batches\n",
    "    total_batches = (total_proteins - 1) // batch_size + 1\n",
    "    for batch_idx in range(start_batch, end_batch):\n",
    "        start_idx = batch_idx * batch_size\n",
    "        end_idx = min(start_idx + batch_size, total_proteins)\n",
    "        batch_ids = protein_ids[start_idx:end_idx]\n",
    "        \n",
    "        if not batch_ids:\n",
    "            continue\n",
    "            \n",
    "        batch_filename = os.path.join(output_path, f\"embeddings_batch_{batch_idx + 1}.pt\")\n",
    "        \n",
    "        # Skip if batch already exists (for resuming)\n",
    "        if os.path.exists(batch_filename):\n",
    "            print(f\"Batch {batch_idx + 1} already exists, skipping...\")\n",
    "            # Update manifest entries for this batch\n",
    "            for i, protein_id in enumerate(batch_ids):\n",
    "                manifest[protein_id] = f\"embeddings_batch_{batch_idx + 1}.pt\"\n",
    "            continue\n",
    "            \n",
    "        batch_embeddings = {}\n",
    "        \n",
    "        # Process each protein in the batch individually\n",
    "        for protein_id in tqdm(batch_ids, desc=f\"Processing batch {batch_idx + 1}/{total_batches}\"):\n",
    "            sequence = proteins_dict[protein_id]\n",
    "        \n",
    "        # Save this batch if we processed any proteins\n",
    "        if batch_embeddings:\n",
    "            torch.save(batch_embeddings, batch_filename, _use_new_zipfile_serialization=True)\n",
    "            \n",
    "            # Update manifest\n",
    "            for pid in batch_embeddings.keys():\n",
    "                manifest[pid] = f\"embeddings_batch_{batch_idx + 1}.pt\"\n",
    "                \n",
    "            # Get file size and add to total\n",
    "            batch_size_bytes = os.path.getsize(batch_filename)\n",
    "            total_bytes += batch_size_bytes\n",
    "            \n",
    "            print(f\"Saved batch {batch_idx + 1} ({len(batch_embeddings)} proteins): {batch_size_bytes/1024/1024:.2f} MB\")\n",
    "        \n",
    "        # Free up memory\n",
    "        del batch_embeddings\n",
    "        gc.collect()\n",
    "        torch.cuda.empty_cache() if torch.cuda.is_available() else None\n",
    "        \n",
    "        # Save manifest after each batch for safety\n",
    "        with open(manifest_path, \"wb\") as f:\n",
    "            pickle.dump(manifest, f)\n",
    "    \n",
    "    # Save final manifest file\n",
    "    with open(manifest_path, \"wb\") as f:\n",
    "        pickle.dump(manifest, f)\n",
    "    \n",
    "    print(f\"\\nEmbedding complete: {proteins_processed} proteins processed in this run\")\n",
    "    print(f\"Total storage used in this run: {total_bytes/1024/1024/1024:.2f} GB\")\n",
    "    if proteins_processed > 0:\n",
    "        print(f\"Average size per protein: {total_bytes/proteins_processed/1024:.2f} KB\")\n",
    "    print(f\"Total proteins in manifest: {len(manifest)}\")"
   ]
  },
  {
   "cell_type": "code",
   "execution_count": 15,
   "metadata": {},
   "outputs": [
    {
     "name": "stdout",
     "output_type": "stream",
     "text": [
      "Will process from batch 111 to 121 (of 121 total)\n"
     ]
    },
    {
     "name": "stderr",
     "output_type": "stream",
     "text": [
      "Processing batch 111/121:  10%|█         | 10/100 [00:02<00:19,  4.70it/s]"
     ]
    },
    {
     "name": "stdout",
     "output_type": "stream",
     "text": [
      "Truncating sequence for Q96MT7 from 1854 to 1500\n"
     ]
    },
    {
     "name": "stderr",
     "output_type": "stream",
     "text": [
      "Processing batch 111/121:  31%|███       | 31/100 [00:06<00:14,  4.67it/s]"
     ]
    },
    {
     "name": "stdout",
     "output_type": "stream",
     "text": [
      "Truncating sequence for P13942 from 1736 to 1500\n"
     ]
    },
    {
     "name": "stderr",
     "output_type": "stream",
     "text": [
      "Processing batch 111/121:  51%|█████     | 51/100 [00:10<00:10,  4.68it/s]"
     ]
    },
    {
     "name": "stdout",
     "output_type": "stream",
     "text": [
      "Truncating sequence for P15924 from 2871 to 1500\n"
     ]
    },
    {
     "name": "stderr",
     "output_type": "stream",
     "text": [
      "Processing batch 111/121:  91%|█████████ | 91/100 [00:18<00:01,  4.54it/s]"
     ]
    },
    {
     "name": "stdout",
     "output_type": "stream",
     "text": [
      "Truncating sequence for Q9UPQ9 from 1833 to 1500\n"
     ]
    },
    {
     "name": "stderr",
     "output_type": "stream",
     "text": [
      "Processing batch 111/121:  95%|█████████▌| 95/100 [00:19<00:01,  4.48it/s]"
     ]
    },
    {
     "name": "stdout",
     "output_type": "stream",
     "text": [
      "Truncating sequence for Q8TEQ6 from 1508 to 1500\n"
     ]
    },
    {
     "name": "stderr",
     "output_type": "stream",
     "text": [
      "Processing batch 111/121: 100%|██████████| 100/100 [00:20<00:00,  4.83it/s]\n"
     ]
    },
    {
     "name": "stdout",
     "output_type": "stream",
     "text": [
      "Saved batch 111 (100 proteins): 100.43 MB\n"
     ]
    },
    {
     "name": "stderr",
     "output_type": "stream",
     "text": [
      "Processing batch 112/121:   4%|▍         | 4/100 [00:00<00:20,  4.70it/s]"
     ]
    },
    {
     "name": "stdout",
     "output_type": "stream",
     "text": [
      "Truncating sequence for Q7RTP6 from 2002 to 1500\n"
     ]
    },
    {
     "name": "stderr",
     "output_type": "stream",
     "text": [
      "Processing batch 112/121:  10%|█         | 10/100 [00:02<00:20,  4.36it/s]"
     ]
    },
    {
     "name": "stdout",
     "output_type": "stream",
     "text": [
      "Truncating sequence for Q9BZ29 from 2069 to 1500\n"
     ]
    },
    {
     "name": "stderr",
     "output_type": "stream",
     "text": [
      "Processing batch 112/121:  15%|█▌        | 15/100 [00:03<00:19,  4.33it/s]"
     ]
    },
    {
     "name": "stdout",
     "output_type": "stream",
     "text": [
      "Truncating sequence for Q02224 from 2701 to 1500\n"
     ]
    },
    {
     "name": "stderr",
     "output_type": "stream",
     "text": [
      "Processing batch 112/121:  27%|██▋       | 27/100 [00:05<00:16,  4.48it/s]"
     ]
    },
    {
     "name": "stdout",
     "output_type": "stream",
     "text": [
      "Truncating sequence for Q5VT06 from 3117 to 1500\n"
     ]
    },
    {
     "name": "stderr",
     "output_type": "stream",
     "text": [
      "Processing batch 112/121:  41%|████      | 41/100 [00:08<00:13,  4.35it/s]"
     ]
    },
    {
     "name": "stdout",
     "output_type": "stream",
     "text": [
      "Truncating sequence for Q14517 from 4588 to 1500\n"
     ]
    },
    {
     "name": "stderr",
     "output_type": "stream",
     "text": [
      "Processing batch 112/121:  43%|████▎     | 43/100 [00:09<00:13,  4.35it/s]"
     ]
    },
    {
     "name": "stdout",
     "output_type": "stream",
     "text": [
      "Truncating sequence for Q96RW7 from 5635 to 1500\n"
     ]
    },
    {
     "name": "stderr",
     "output_type": "stream",
     "text": [
      "Processing batch 112/121:  50%|█████     | 50/100 [00:10<00:11,  4.46it/s]"
     ]
    },
    {
     "name": "stdout",
     "output_type": "stream",
     "text": [
      "Truncating sequence for P51587 from 3418 to 1500\n"
     ]
    },
    {
     "name": "stderr",
     "output_type": "stream",
     "text": [
      "Processing batch 112/121:  64%|██████▍   | 64/100 [00:13<00:08,  4.42it/s]"
     ]
    },
    {
     "name": "stdout",
     "output_type": "stream",
     "text": [
      "Truncating sequence for Q9NU22 from 5596 to 1500\n"
     ]
    },
    {
     "name": "stderr",
     "output_type": "stream",
     "text": [
      "Processing batch 112/121:  66%|██████▌   | 66/100 [00:14<00:07,  4.26it/s]"
     ]
    },
    {
     "name": "stdout",
     "output_type": "stream",
     "text": [
      "Truncating sequence for Q8NG31 from 2342 to 1500\n"
     ]
    },
    {
     "name": "stderr",
     "output_type": "stream",
     "text": [
      "Processing batch 112/121:  71%|███████   | 71/100 [00:15<00:06,  4.48it/s]"
     ]
    },
    {
     "name": "stdout",
     "output_type": "stream",
     "text": [
      "Truncating sequence for Q9NRD8 from 1548 to 1500\n"
     ]
    },
    {
     "name": "stderr",
     "output_type": "stream",
     "text": [
      "Processing batch 112/121:  87%|████████▋ | 87/100 [00:18<00:02,  4.46it/s]"
     ]
    },
    {
     "name": "stdout",
     "output_type": "stream",
     "text": [
      "Truncating sequence for Q96T58 from 3664 to 1500\n"
     ]
    },
    {
     "name": "stderr",
     "output_type": "stream",
     "text": [
      "Processing batch 112/121: 100%|██████████| 100/100 [00:21<00:00,  4.64it/s]"
     ]
    },
    {
     "name": "stdout",
     "output_type": "stream",
     "text": [
      "Truncating sequence for Q14573 from 2671 to 1500\n"
     ]
    },
    {
     "name": "stderr",
     "output_type": "stream",
     "text": [
      "\n"
     ]
    },
    {
     "name": "stdout",
     "output_type": "stream",
     "text": [
      "Saved batch 112 (100 proteins): 134.90 MB\n"
     ]
    },
    {
     "name": "stderr",
     "output_type": "stream",
     "text": [
      "Processing batch 113/121:   2%|▏         | 2/100 [00:00<00:24,  4.04it/s]"
     ]
    },
    {
     "name": "stdout",
     "output_type": "stream",
     "text": [
      "Truncating sequence for Q9Y6R7 from 5405 to 1500\n"
     ]
    },
    {
     "name": "stderr",
     "output_type": "stream",
     "text": [
      "Processing batch 113/121:   5%|▌         | 5/100 [00:01<00:21,  4.35it/s]"
     ]
    },
    {
     "name": "stdout",
     "output_type": "stream",
     "text": [
      "Truncating sequence for P35580 from 1976 to 1500\n"
     ]
    },
    {
     "name": "stderr",
     "output_type": "stream",
     "text": [
      "Processing batch 113/121:  15%|█▌        | 15/100 [00:03<00:18,  4.62it/s]"
     ]
    },
    {
     "name": "stdout",
     "output_type": "stream",
     "text": [
      "Truncating sequence for Q13219 from 1627 to 1500\n"
     ]
    },
    {
     "name": "stderr",
     "output_type": "stream",
     "text": [
      "Processing batch 113/121:  17%|█▋        | 17/100 [00:03<00:18,  4.43it/s]"
     ]
    },
    {
     "name": "stdout",
     "output_type": "stream",
     "text": [
      "Truncating sequence for P08519 from 4548 to 1500\n",
      "Truncating sequence for Q86UK0 from 2595 to 1500\n"
     ]
    },
    {
     "name": "stderr",
     "output_type": "stream",
     "text": [
      "Processing batch 113/121:  22%|██▏       | 22/100 [00:04<00:17,  4.39it/s]"
     ]
    },
    {
     "name": "stdout",
     "output_type": "stream",
     "text": [
      "Truncating sequence for P18583 from 2426 to 1500\n"
     ]
    },
    {
     "name": "stderr",
     "output_type": "stream",
     "text": [
      "Processing batch 113/121:  24%|██▍       | 24/100 [00:05<00:17,  4.37it/s]"
     ]
    },
    {
     "name": "stdout",
     "output_type": "stream",
     "text": [
      "Truncating sequence for O60346 from 1717 to 1500\n"
     ]
    },
    {
     "name": "stderr",
     "output_type": "stream",
     "text": [
      "Processing batch 113/121:  37%|███▋      | 37/100 [00:07<00:13,  4.61it/s]"
     ]
    },
    {
     "name": "stdout",
     "output_type": "stream",
     "text": [
      "Truncating sequence for Q99250 from 2005 to 1500\n",
      "Truncating sequence for Q8IWU2 from 1503 to 1500\n"
     ]
    },
    {
     "name": "stderr",
     "output_type": "stream",
     "text": [
      "Processing batch 113/121:  46%|████▌     | 46/100 [00:09<00:12,  4.46it/s]"
     ]
    },
    {
     "name": "stdout",
     "output_type": "stream",
     "text": [
      "Truncating sequence for O43166 from 1804 to 1500\n"
     ]
    },
    {
     "name": "stderr",
     "output_type": "stream",
     "text": [
      "Processing batch 113/121:  60%|██████    | 60/100 [00:12<00:08,  4.45it/s]"
     ]
    },
    {
     "name": "stdout",
     "output_type": "stream",
     "text": [
      "Truncating sequence for Q562E7 from 1941 to 1500\n"
     ]
    },
    {
     "name": "stderr",
     "output_type": "stream",
     "text": [
      "Processing batch 113/121:  77%|███████▋  | 77/100 [00:16<00:04,  4.68it/s]"
     ]
    },
    {
     "name": "stdout",
     "output_type": "stream",
     "text": [
      "Truncating sequence for O75417 from 2590 to 1500\n"
     ]
    },
    {
     "name": "stderr",
     "output_type": "stream",
     "text": [
      "Processing batch 113/121:  98%|█████████▊| 98/100 [00:20<00:00,  4.63it/s]"
     ]
    },
    {
     "name": "stdout",
     "output_type": "stream",
     "text": [
      "Truncating sequence for Q2M3C7 from 1700 to 1500\n"
     ]
    },
    {
     "name": "stderr",
     "output_type": "stream",
     "text": [
      "Processing batch 113/121: 100%|██████████| 100/100 [00:21<00:00,  4.75it/s]\n"
     ]
    },
    {
     "name": "stdout",
     "output_type": "stream",
     "text": [
      "Saved batch 113 (100 proteins): 111.72 MB\n"
     ]
    },
    {
     "name": "stderr",
     "output_type": "stream",
     "text": [
      "Processing batch 114/121:   7%|▋         | 7/100 [00:01<00:20,  4.53it/s]"
     ]
    },
    {
     "name": "stdout",
     "output_type": "stream",
     "text": [
      "Truncating sequence for Q14004 from 1512 to 1500\n"
     ]
    },
    {
     "name": "stderr",
     "output_type": "stream",
     "text": [
      "Processing batch 114/121:  12%|█▏        | 12/100 [00:02<00:19,  4.60it/s]"
     ]
    },
    {
     "name": "stdout",
     "output_type": "stream",
     "text": [
      "Truncating sequence for Q92508 from 2521 to 1500\n"
     ]
    },
    {
     "name": "stderr",
     "output_type": "stream",
     "text": [
      "Processing batch 114/121:  19%|█▉        | 19/100 [00:04<00:18,  4.47it/s]"
     ]
    },
    {
     "name": "stdout",
     "output_type": "stream",
     "text": [
      "Truncating sequence for P13611 from 3396 to 1500\n"
     ]
    },
    {
     "name": "stderr",
     "output_type": "stream",
     "text": [
      "Processing batch 114/121:  24%|██▍       | 24/100 [00:05<00:16,  4.51it/s]"
     ]
    },
    {
     "name": "stdout",
     "output_type": "stream",
     "text": [
      "Truncating sequence for Q9Y4G6 from 2542 to 1500\n"
     ]
    },
    {
     "name": "stderr",
     "output_type": "stream",
     "text": [
      "Processing batch 114/121:  33%|███▎      | 33/100 [00:06<00:14,  4.69it/s]"
     ]
    },
    {
     "name": "stdout",
     "output_type": "stream",
     "text": [
      "Truncating sequence for O60486 from 1568 to 1500\n"
     ]
    },
    {
     "name": "stderr",
     "output_type": "stream",
     "text": [
      "Processing batch 114/121:  74%|███████▍  | 74/100 [00:15<00:05,  4.37it/s]"
     ]
    },
    {
     "name": "stdout",
     "output_type": "stream",
     "text": [
      "Truncating sequence for P53675 from 1640 to 1500\n"
     ]
    },
    {
     "name": "stderr",
     "output_type": "stream",
     "text": [
      "Processing batch 114/121:  87%|████████▋ | 87/100 [00:18<00:02,  4.60it/s]"
     ]
    },
    {
     "name": "stdout",
     "output_type": "stream",
     "text": [
      "Truncating sequence for P52948 from 1817 to 1500\n"
     ]
    },
    {
     "name": "stderr",
     "output_type": "stream",
     "text": [
      "Processing batch 114/121: 100%|██████████| 100/100 [00:20<00:00,  4.81it/s]\n"
     ]
    },
    {
     "name": "stdout",
     "output_type": "stream",
     "text": [
      "Saved batch 114 (100 proteins): 107.16 MB\n"
     ]
    },
    {
     "name": "stderr",
     "output_type": "stream",
     "text": [
      "Processing batch 115/121:   0%|          | 0/100 [00:00<?, ?it/s]"
     ]
    },
    {
     "name": "stdout",
     "output_type": "stream",
     "text": [
      "Truncating sequence for Q68CP9 from 1835 to 1500\n"
     ]
    },
    {
     "name": "stderr",
     "output_type": "stream",
     "text": [
      "Processing batch 115/121:   1%|          | 1/100 [00:00<00:24,  4.04it/s]"
     ]
    },
    {
     "name": "stdout",
     "output_type": "stream",
     "text": [
      "Truncating sequence for P39880 from 1505 to 1500\n"
     ]
    },
    {
     "name": "stderr",
     "output_type": "stream",
     "text": [
      "Processing batch 115/121:  20%|██        | 20/100 [00:04<00:17,  4.49it/s]"
     ]
    },
    {
     "name": "stdout",
     "output_type": "stream",
     "text": [
      "Truncating sequence for Q8IWJ2 from 1684 to 1500\n"
     ]
    },
    {
     "name": "stderr",
     "output_type": "stream",
     "text": [
      "Processing batch 115/121:  25%|██▌       | 25/100 [00:05<00:16,  4.59it/s]"
     ]
    },
    {
     "name": "stdout",
     "output_type": "stream",
     "text": [
      "Truncating sequence for P39060 from 1754 to 1500\n"
     ]
    },
    {
     "name": "stderr",
     "output_type": "stream",
     "text": [
      "Processing batch 115/121:  28%|██▊       | 28/100 [00:06<00:16,  4.41it/s]"
     ]
    },
    {
     "name": "stdout",
     "output_type": "stream",
     "text": [
      "Truncating sequence for O00763 from 2458 to 1500\n"
     ]
    },
    {
     "name": "stderr",
     "output_type": "stream",
     "text": [
      "Processing batch 115/121:  60%|██████    | 60/100 [00:12<00:08,  4.51it/s]"
     ]
    },
    {
     "name": "stdout",
     "output_type": "stream",
     "text": [
      "Truncating sequence for P17927 from 2039 to 1500\n"
     ]
    },
    {
     "name": "stderr",
     "output_type": "stream",
     "text": [
      "Processing batch 115/121:  68%|██████▊   | 68/100 [00:14<00:07,  4.48it/s]"
     ]
    },
    {
     "name": "stdout",
     "output_type": "stream",
     "text": [
      "Truncating sequence for P49792 from 3224 to 1500\n"
     ]
    },
    {
     "name": "stderr",
     "output_type": "stream",
     "text": [
      "Processing batch 115/121: 100%|██████████| 100/100 [00:21<00:00,  4.71it/s]\n"
     ]
    },
    {
     "name": "stdout",
     "output_type": "stream",
     "text": [
      "Saved batch 115 (100 proteins): 127.70 MB\n"
     ]
    },
    {
     "name": "stderr",
     "output_type": "stream",
     "text": [
      "Processing batch 116/121:  10%|█         | 10/100 [00:02<00:20,  4.36it/s]"
     ]
    },
    {
     "name": "stdout",
     "output_type": "stream",
     "text": [
      "Truncating sequence for Q9Y2H9 from 1570 to 1500\n"
     ]
    },
    {
     "name": "stderr",
     "output_type": "stream",
     "text": [
      "Processing batch 116/121:  12%|█▏        | 12/100 [00:02<00:21,  4.12it/s]"
     ]
    },
    {
     "name": "stdout",
     "output_type": "stream",
     "text": [
      "Truncating sequence for O75691 from 2785 to 1500\n"
     ]
    },
    {
     "name": "stderr",
     "output_type": "stream",
     "text": [
      "Processing batch 116/121:  19%|█▉        | 19/100 [00:04<00:18,  4.41it/s]"
     ]
    },
    {
     "name": "stdout",
     "output_type": "stream",
     "text": [
      "Truncating sequence for Q9UQD0 from 1980 to 1500\n"
     ]
    },
    {
     "name": "stderr",
     "output_type": "stream",
     "text": [
      "Processing batch 116/121:  27%|██▋       | 27/100 [00:05<00:16,  4.49it/s]"
     ]
    },
    {
     "name": "stdout",
     "output_type": "stream",
     "text": [
      "Truncating sequence for Q15652 from 2540 to 1500\n"
     ]
    },
    {
     "name": "stderr",
     "output_type": "stream",
     "text": [
      "Processing batch 116/121:  30%|███       | 30/100 [00:06<00:16,  4.36it/s]"
     ]
    },
    {
     "name": "stdout",
     "output_type": "stream",
     "text": [
      "Truncating sequence for Q4AC94 from 2353 to 1500\n"
     ]
    },
    {
     "name": "stderr",
     "output_type": "stream",
     "text": [
      "Processing batch 116/121:  32%|███▏      | 32/100 [00:07<00:15,  4.31it/s]"
     ]
    },
    {
     "name": "stdout",
     "output_type": "stream",
     "text": [
      "Truncating sequence for O60673 from 3130 to 1500\n"
     ]
    },
    {
     "name": "stderr",
     "output_type": "stream",
     "text": [
      "Processing batch 116/121:  49%|████▉     | 49/100 [00:10<00:11,  4.42it/s]"
     ]
    },
    {
     "name": "stdout",
     "output_type": "stream",
     "text": [
      "Truncating sequence for Q14766 from 1721 to 1500\n"
     ]
    },
    {
     "name": "stderr",
     "output_type": "stream",
     "text": [
      "Processing batch 116/121:  51%|█████     | 51/100 [00:11<00:11,  4.21it/s]"
     ]
    },
    {
     "name": "stdout",
     "output_type": "stream",
     "text": [
      "Truncating sequence for P08922 from 2347 to 1500\n"
     ]
    },
    {
     "name": "stderr",
     "output_type": "stream",
     "text": [
      "Processing batch 116/121:  55%|█████▌    | 55/100 [00:12<00:10,  4.34it/s]"
     ]
    },
    {
     "name": "stdout",
     "output_type": "stream",
     "text": [
      "Truncating sequence for Q9Y6J0 from 2220 to 1500\n"
     ]
    },
    {
     "name": "stderr",
     "output_type": "stream",
     "text": [
      "Processing batch 116/121:  61%|██████    | 61/100 [00:13<00:08,  4.41it/s]"
     ]
    },
    {
     "name": "stdout",
     "output_type": "stream",
     "text": [
      "Truncating sequence for Q6ZNJ1 from 2754 to 1500\n"
     ]
    },
    {
     "name": "stderr",
     "output_type": "stream",
     "text": [
      "Processing batch 116/121:  75%|███████▌  | 75/100 [00:16<00:05,  4.67it/s]"
     ]
    },
    {
     "name": "stdout",
     "output_type": "stream",
     "text": [
      "Truncating sequence for Q9NQT8 from 1826 to 1500\n"
     ]
    },
    {
     "name": "stderr",
     "output_type": "stream",
     "text": [
      "Processing batch 116/121:  99%|█████████▉| 99/100 [00:21<00:00,  4.32it/s]"
     ]
    },
    {
     "name": "stdout",
     "output_type": "stream",
     "text": [
      "Truncating sequence for Q9UGU0 from 1960 to 1500\n"
     ]
    },
    {
     "name": "stderr",
     "output_type": "stream",
     "text": [
      "Processing batch 116/121: 100%|██████████| 100/100 [00:21<00:00,  4.59it/s]\n"
     ]
    },
    {
     "name": "stdout",
     "output_type": "stream",
     "text": [
      "Saved batch 116 (100 proteins): 127.29 MB\n"
     ]
    },
    {
     "name": "stderr",
     "output_type": "stream",
     "text": [
      "Processing batch 117/121:   6%|▌         | 6/100 [00:01<00:20,  4.56it/s]"
     ]
    },
    {
     "name": "stdout",
     "output_type": "stream",
     "text": [
      "Truncating sequence for Q9Y4A5 from 3859 to 1500\n"
     ]
    },
    {
     "name": "stderr",
     "output_type": "stream",
     "text": [
      "Processing batch 117/121:  10%|█         | 10/100 [00:02<00:19,  4.54it/s]"
     ]
    },
    {
     "name": "stdout",
     "output_type": "stream",
     "text": [
      "Truncating sequence for Q8N1I0 from 1966 to 1500\n"
     ]
    },
    {
     "name": "stderr",
     "output_type": "stream",
     "text": [
      "Processing batch 117/121:  31%|███       | 31/100 [00:06<00:14,  4.64it/s]"
     ]
    },
    {
     "name": "stdout",
     "output_type": "stream",
     "text": [
      "Truncating sequence for Q8IWI9 from 3065 to 1500\n"
     ]
    },
    {
     "name": "stderr",
     "output_type": "stream",
     "text": [
      "Processing batch 117/121:  78%|███████▊  | 78/100 [00:16<00:04,  4.60it/s]"
     ]
    },
    {
     "name": "stdout",
     "output_type": "stream",
     "text": [
      "Truncating sequence for Q96JM2 from 2506 to 1500\n"
     ]
    },
    {
     "name": "stderr",
     "output_type": "stream",
     "text": [
      "Processing batch 117/121: 100%|██████████| 100/100 [00:20<00:00,  4.77it/s]"
     ]
    },
    {
     "name": "stdout",
     "output_type": "stream",
     "text": [
      "Truncating sequence for P48681 from 1621 to 1500\n"
     ]
    },
    {
     "name": "stderr",
     "output_type": "stream",
     "text": [
      "\n"
     ]
    },
    {
     "name": "stdout",
     "output_type": "stream",
     "text": [
      "Saved batch 117 (100 proteins): 106.49 MB\n"
     ]
    },
    {
     "name": "stderr",
     "output_type": "stream",
     "text": [
      "Processing batch 118/121:   3%|▎         | 3/100 [00:00<00:22,  4.30it/s]"
     ]
    },
    {
     "name": "stdout",
     "output_type": "stream",
     "text": [
      "Truncating sequence for Q7Z5J4 from 1906 to 1500\n"
     ]
    },
    {
     "name": "stderr",
     "output_type": "stream",
     "text": [
      "Processing batch 118/121:   7%|▋         | 7/100 [00:01<00:20,  4.46it/s]"
     ]
    },
    {
     "name": "stdout",
     "output_type": "stream",
     "text": [
      "Truncating sequence for P27708 from 2225 to 1500\n"
     ]
    },
    {
     "name": "stderr",
     "output_type": "stream",
     "text": [
      "Processing batch 118/121:  57%|█████▋    | 57/100 [00:11<00:09,  4.64it/s]"
     ]
    },
    {
     "name": "stdout",
     "output_type": "stream",
     "text": [
      "Truncating sequence for A6NHR9 from 2005 to 1500\n"
     ]
    },
    {
     "name": "stderr",
     "output_type": "stream",
     "text": [
      "Processing batch 118/121:  60%|██████    | 60/100 [00:12<00:08,  4.48it/s]"
     ]
    },
    {
     "name": "stdout",
     "output_type": "stream",
     "text": [
      "Truncating sequence for P23467 from 1997 to 1500\n"
     ]
    },
    {
     "name": "stderr",
     "output_type": "stream",
     "text": [
      "Processing batch 118/121:  64%|██████▍   | 64/100 [00:13<00:08,  4.45it/s]"
     ]
    },
    {
     "name": "stdout",
     "output_type": "stream",
     "text": [
      "Truncating sequence for Q93008 from 2554 to 1500\n"
     ]
    },
    {
     "name": "stderr",
     "output_type": "stream",
     "text": [
      "Processing batch 118/121:  69%|██████▉   | 69/100 [00:14<00:07,  4.31it/s]"
     ]
    },
    {
     "name": "stdout",
     "output_type": "stream",
     "text": [
      "Truncating sequence for P35658 from 2090 to 1500\n"
     ]
    },
    {
     "name": "stderr",
     "output_type": "stream",
     "text": [
      "Processing batch 118/121:  75%|███████▌  | 75/100 [00:15<00:05,  4.51it/s]"
     ]
    },
    {
     "name": "stdout",
     "output_type": "stream",
     "text": [
      "Truncating sequence for Q8N3C0 from 2202 to 1500\n"
     ]
    },
    {
     "name": "stderr",
     "output_type": "stream",
     "text": [
      "Processing batch 118/121:  82%|████████▏ | 82/100 [00:17<00:03,  4.77it/s]"
     ]
    },
    {
     "name": "stdout",
     "output_type": "stream",
     "text": [
      "Truncating sequence for Q5H9F3 from 1711 to 1500\n"
     ]
    },
    {
     "name": "stderr",
     "output_type": "stream",
     "text": [
      "Processing batch 118/121:  84%|████████▍ | 84/100 [00:17<00:03,  4.39it/s]"
     ]
    },
    {
     "name": "stdout",
     "output_type": "stream",
     "text": [
      "Truncating sequence for Q9Y2I1 from 1504 to 1500\n"
     ]
    },
    {
     "name": "stderr",
     "output_type": "stream",
     "text": [
      "Processing batch 118/121:  99%|█████████▉| 99/100 [00:20<00:00,  4.74it/s]"
     ]
    },
    {
     "name": "stdout",
     "output_type": "stream",
     "text": [
      "Truncating sequence for Q5VST9 from 7968 to 1500\n"
     ]
    },
    {
     "name": "stderr",
     "output_type": "stream",
     "text": [
      "Processing batch 118/121: 100%|██████████| 100/100 [00:20<00:00,  4.78it/s]\n"
     ]
    },
    {
     "name": "stdout",
     "output_type": "stream",
     "text": [
      "Saved batch 118 (100 proteins): 111.68 MB\n"
     ]
    },
    {
     "name": "stderr",
     "output_type": "stream",
     "text": [
      "Processing batch 119/121:  11%|█         | 11/100 [00:02<00:19,  4.61it/s]"
     ]
    },
    {
     "name": "stdout",
     "output_type": "stream",
     "text": [
      "Truncating sequence for Q8NFC6 from 3051 to 1500\n",
      "Truncating sequence for Q96QB1 from 1528 to 1500\n"
     ]
    },
    {
     "name": "stderr",
     "output_type": "stream",
     "text": [
      "Processing batch 119/121:  14%|█▍        | 14/100 [00:03<00:20,  4.29it/s]"
     ]
    },
    {
     "name": "stdout",
     "output_type": "stream",
     "text": [
      "Truncating sequence for Q7Z4S6 from 1674 to 1500\n"
     ]
    },
    {
     "name": "stderr",
     "output_type": "stream",
     "text": [
      "Processing batch 119/121:  35%|███▌      | 35/100 [00:07<00:13,  4.71it/s]"
     ]
    },
    {
     "name": "stdout",
     "output_type": "stream",
     "text": [
      "Truncating sequence for Q92614 from 2054 to 1500\n"
     ]
    },
    {
     "name": "stderr",
     "output_type": "stream",
     "text": [
      "Processing batch 119/121:  39%|███▉      | 39/100 [00:08<00:13,  4.56it/s]"
     ]
    },
    {
     "name": "stdout",
     "output_type": "stream",
     "text": [
      "Truncating sequence for Q17RW2 from 1714 to 1500\n",
      "Truncating sequence for O75096 from 1905 to 1500\n"
     ]
    },
    {
     "name": "stderr",
     "output_type": "stream",
     "text": [
      "Processing batch 119/121:  68%|██████▊   | 68/100 [00:13<00:06,  4.68it/s]"
     ]
    },
    {
     "name": "stdout",
     "output_type": "stream",
     "text": [
      "Truncating sequence for Q8IWT3 from 2517 to 1500\n"
     ]
    },
    {
     "name": "stderr",
     "output_type": "stream",
     "text": [
      "Processing batch 119/121: 100%|██████████| 100/100 [00:20<00:00,  4.79it/s]\n"
     ]
    },
    {
     "name": "stdout",
     "output_type": "stream",
     "text": [
      "Saved batch 119 (100 proteins): 97.46 MB\n"
     ]
    },
    {
     "name": "stderr",
     "output_type": "stream",
     "text": [
      "Processing batch 120/121:  11%|█         | 11/100 [00:02<00:20,  4.43it/s]"
     ]
    },
    {
     "name": "stdout",
     "output_type": "stream",
     "text": [
      "Truncating sequence for O43151 from 1795 to 1500\n"
     ]
    },
    {
     "name": "stderr",
     "output_type": "stream",
     "text": [
      "Processing batch 120/121:  17%|█▋        | 17/100 [00:03<00:17,  4.69it/s]"
     ]
    },
    {
     "name": "stdout",
     "output_type": "stream",
     "text": [
      "Truncating sequence for Q9Y2I7 from 2098 to 1500\n"
     ]
    },
    {
     "name": "stderr",
     "output_type": "stream",
     "text": [
      "Processing batch 120/121:  31%|███       | 31/100 [00:06<00:15,  4.57it/s]"
     ]
    },
    {
     "name": "stdout",
     "output_type": "stream",
     "text": [
      "Truncating sequence for Q8TEU7 from 1601 to 1500\n"
     ]
    },
    {
     "name": "stderr",
     "output_type": "stream",
     "text": [
      "Processing batch 120/121:  35%|███▌      | 35/100 [00:07<00:14,  4.52it/s]"
     ]
    },
    {
     "name": "stdout",
     "output_type": "stream",
     "text": [
      "Truncating sequence for Q5VT25 from 1732 to 1500\n"
     ]
    },
    {
     "name": "stderr",
     "output_type": "stream",
     "text": [
      "Processing batch 120/121: 100%|██████████| 100/100 [00:20<00:00,  4.90it/s]\n"
     ]
    },
    {
     "name": "stdout",
     "output_type": "stream",
     "text": [
      "Saved batch 120 (100 proteins): 101.04 MB\n"
     ]
    },
    {
     "name": "stderr",
     "output_type": "stream",
     "text": [
      "Processing batch 121/121: 100%|██████████| 26/26 [00:05<00:00,  5.04it/s]\n"
     ]
    },
    {
     "name": "stdout",
     "output_type": "stream",
     "text": [
      "Saved batch 121 (26 proteins): 24.61 MB\n",
      "\n",
      "Embedding complete: 1026 proteins processed in this run\n",
      "Total storage used in this run: 1.12 GB\n",
      "Average size per protein: 1148.24 KB\n",
      "Total proteins in manifest: 12026\n"
     ]
    }
   ],
   "source": [
    "# Cell 5: Run embedding process\n",
    "# Load unique proteins from the full dataset\n",
    "with open('data/full_dataset/unique_proteins.pkl', 'rb') as f:\n",
    "    unique_proteins = pickle.load(f)\n",
    "\n",
    "# Set output directory\n",
    "output_dir = 'data/full_dataset/embeddings'\n",
    "\n",
    "# Run the embedding process\n",
    "embed_proteins_low_memory(\n",
    "    unique_proteins, \n",
    "    output_dir, \n",
    "    batch_size=100,\n",
    "    start_batch=110,\n",
    "    max_proteins_per_run=1000\n",
    ")"
   ]
  },
  {
   "cell_type": "code",
   "execution_count": 17,
   "metadata": {},
   "outputs": [],
   "source": [
    "# Cell 6: Merging functions\n",
    "def merge_embeddings(embeddings_dir='data/full_dataset/embeddings', output_file=None):\n",
    "    \"\"\"\n",
    "    Merge all protein embeddings from batch files into a single pickle file.\n",
    "    \n",
    "    Args:\n",
    "        embeddings_dir: Directory containing the embedding batch files and manifest\n",
    "        output_file: Path to save the merged embeddings (default: embeddings_merged.pkl in embeddings_dir)\n",
    "    \n",
    "    Returns:\n",
    "        Path to the merged embeddings file\n",
    "    \"\"\"\n",
    "    # Set default output file path if not provided\n",
    "    if output_file is None:\n",
    "        output_file = os.path.join(embeddings_dir, \"embeddings_merged.pkl\")\n",
    "    \n",
    "    # Load the manifest file\n",
    "    manifest_path = os.path.join(embeddings_dir, \"embeddings_manifest.pkl\")\n",
    "    with open(manifest_path, \"rb\") as f:\n",
    "        manifest = pickle.load(f)\n",
    "    \n",
    "    print(f\"Found {len(manifest)} proteins in manifest\")\n",
    "    \n",
    "    # Get unique batch files\n",
    "    batch_files = set(manifest.values())\n",
    "    print(f\"Found {len(batch_files)} batch files\")\n",
    "    \n",
    "    # Create a dictionary to hold all embeddings\n",
    "    all_embeddings = {}\n",
    "    \n",
    "    # Track file size for reporting\n",
    "    total_loaded_bytes = 0\n",
    "    \n",
    "    # Process each batch file\n",
    "    for batch_file in tqdm(batch_files, desc=\"Loading batch files\"):\n",
    "        batch_path = os.path.join(embeddings_dir, batch_file)\n",
    "        \n",
    "        # Get file size\n",
    "        file_size = os.path.getsize(batch_path)\n",
    "        total_loaded_bytes += file_size\n",
    "        \n",
    "        # Load batch embeddings\n",
    "        batch_embeddings = torch.load(batch_path)\n",
    "        \n",
    "        # Add embeddings to master dictionary\n",
    "        all_embeddings.update(batch_embeddings)\n",
    "        \n",
    "        # Clear memory\n",
    "        del batch_embeddings\n",
    "        gc.collect()\n",
    "    \n",
    "    print(f\"Loaded {len(all_embeddings)} protein embeddings\")\n",
    "    print(f\"Total loaded: {total_loaded_bytes/1024/1024/1024:.2f} GB\")\n",
    "    \n",
    "    # Save the merged embeddings\n",
    "    print(f\"Saving merged embeddings to {output_file}...\")\n",
    "    with open(output_file, \"wb\") as f:\n",
    "        pickle.dump(all_embeddings, f)\n",
    "    \n",
    "    # Get size of the merged file\n",
    "    merged_size = os.path.getsize(output_file)\n",
    "    print(f\"Merged file size: {merged_size/1024/1024/1024:.2f} GB\")\n",
    "    \n",
    "    return output_file\n",
    "\n",
    "def merge_embeddings_compressed(embeddings_dir='data/full_dataset/embeddings', output_file=None):\n",
    "    \"\"\"\n",
    "    Merge all protein embeddings from batch files into a single compressed pickle file.\n",
    "    Uses highest compression level to minimize size.\n",
    "    \n",
    "    Args:\n",
    "        embeddings_dir: Directory containing the embedding batch files and manifest\n",
    "        output_file: Path to save the merged embeddings (default: embeddings_merged_compressed.pkl in embeddings_dir)\n",
    "    \n",
    "    Returns:\n",
    "        Path to the merged embeddings file\n",
    "    \"\"\"\n",
    "    import gzip\n",
    "    \n",
    "    # Set default output file path if not provided\n",
    "    if output_file is None:\n",
    "        output_file = os.path.join(embeddings_dir, \"embeddings_merged_compressed.pkl\")\n",
    "    \n",
    "    # Load the manifest file\n",
    "    manifest_path = os.path.join(embeddings_dir, \"embeddings_manifest.pkl\")\n",
    "    with open(manifest_path, \"rb\") as f:\n",
    "        manifest = pickle.load(f)\n",
    "    \n",
    "    print(f\"Found {len(manifest)} proteins in manifest\")\n",
    "    \n",
    "    # Get unique batch files\n",
    "    batch_files = set(manifest.values())\n",
    "    print(f\"Found {len(batch_files)} batch files\")\n",
    "    \n",
    "    # Create a dictionary to hold all embeddings\n",
    "    all_embeddings = {}\n",
    "    \n",
    "    # Track file size for reporting\n",
    "    total_loaded_bytes = 0\n",
    "    \n",
    "    # Process each batch file\n",
    "    for batch_file in tqdm(batch_files, desc=\"Loading batch files\"):\n",
    "        batch_path = os.path.join(embeddings_dir, batch_file)\n",
    "        \n",
    "        # Get file size\n",
    "        file_size = os.path.getsize(batch_path)\n",
    "        total_loaded_bytes += file_size\n",
    "        \n",
    "        # Load batch embeddings\n",
    "        batch_embeddings = torch.load(batch_path)\n",
    "        \n",
    "        # Add embeddings to master dictionary\n",
    "        all_embeddings.update(batch_embeddings)\n",
    "        \n",
    "        # Clear memory\n",
    "        del batch_embeddings\n",
    "        gc.collect()\n",
    "    \n",
    "    print(f\"Loaded {len(all_embeddings)} protein embeddings\")\n",
    "    print(f\"Total loaded: {total_loaded_bytes/1024/1024/1024:.2f} GB\")\n",
    "    \n",
    "    # Save the merged embeddings with compression\n",
    "    print(f\"Saving compressed merged embeddings to {output_file}...\")\n",
    "    with gzip.open(output_file, \"wb\", compresslevel=9) as f:\n",
    "        pickle.dump(all_embeddings, f)\n",
    "    \n",
    "    # Get size of the merged file\n",
    "    merged_size = os.path.getsize(output_file)\n",
    "    print(f\"Merged compressed file size: {merged_size/1024/1024/1024:.2f} GB\")\n",
    "    print(f\"Compression ratio: {merged_size/total_loaded_bytes:.2f}\")\n",
    "    \n",
    "    return output_file"
   ]
  },
  {
   "cell_type": "code",
   "execution_count": 18,
   "metadata": {},
   "outputs": [
    {
     "name": "stdout",
     "output_type": "stream",
     "text": [
      "Found 12026 proteins in manifest\n",
      "Found 121 batch files\n"
     ]
    },
    {
     "name": "stderr",
     "output_type": "stream",
     "text": [
      "Loading batch files: 100%|██████████| 121/121 [00:15<00:00,  7.70it/s]\n"
     ]
    },
    {
     "name": "stdout",
     "output_type": "stream",
     "text": [
      "Loaded 12026 protein embeddings\n",
      "Total loaded: 11.23 GB\n",
      "Saving merged embeddings to data/full_dataset/embeddings/embeddings_merged.pkl...\n",
      "Merged file size: 11.23 GB\n",
      "Merged embeddings saved to: data/full_dataset/embeddings/embeddings_merged.pkl\n"
     ]
    }
   ],
   "source": [
    "# Cell 7: Merge the embeddings\n",
    "# Choose one of these options:\n",
    "\n",
    "# Option 1: Basic merge - faster but larger file\n",
    "merged_file = merge_embeddings()\n",
    "print(f\"Merged embeddings saved to: {merged_file}\")\n",
    "\n",
    "# Option 2: Merge with maximum compression - slower but smaller file\n",
    "# merged_compressed_file = merge_embeddings_compressed()\n",
    "# print(f\"Compressed merged embeddings saved to: {merged_compressed_file}\")"
   ]
  },
  {
   "cell_type": "code",
   "execution_count": 12,
   "metadata": {},
   "outputs": [],
   "source": [
    "protein_embeddings = pickle.load(open('data/full_dataset/embeddings/embeddings_merged.pkl', 'rb'))\n"
   ]
  },
  {
   "cell_type": "code",
   "execution_count": 13,
   "metadata": {},
   "outputs": [
    {
     "name": "stdout",
     "output_type": "stream",
     "text": [
      "Protein ID: P28223, Embedding shape: torch.Size([473, 960])\n",
      "Protein ID: P41595, Embedding shape: torch.Size([483, 960])\n",
      "Protein ID: O00161, Embedding shape: torch.Size([213, 960])\n",
      "Protein ID: P56962, Embedding shape: torch.Size([304, 960])\n",
      "Protein ID: P82979, Embedding shape: torch.Size([212, 960])\n",
      "Protein ID: Q01081, Embedding shape: torch.Size([242, 960])\n",
      "Protein ID: O60678, Embedding shape: torch.Size([533, 960])\n",
      "Protein ID: Q14524, Embedding shape: torch.Size([1502, 960])\n",
      "Protein ID: P10275, Embedding shape: torch.Size([922, 960])\n",
      "Protein ID: Q15648, Embedding shape: torch.Size([1502, 960])\n",
      "Protein ID: P05413, Embedding shape: torch.Size([135, 960])\n",
      "Protein ID: P05556, Embedding shape: torch.Size([800, 960])\n",
      "Protein ID: Q99873, Embedding shape: torch.Size([373, 960])\n",
      "Protein ID: O95573, Embedding shape: torch.Size([722, 960])\n",
      "Protein ID: P08588, Embedding shape: torch.Size([479, 960])\n",
      "Protein ID: P21917, Embedding shape: torch.Size([421, 960])\n",
      "Protein ID: O75365, Embedding shape: torch.Size([175, 960])\n",
      "Protein ID: P67936, Embedding shape: torch.Size([250, 960])\n",
      "Protein ID: P35368, Embedding shape: torch.Size([522, 960])\n",
      "Protein ID: P61586, Embedding shape: torch.Size([195, 960])\n",
      "Protein ID: Q969H4, Embedding shape: torch.Size([722, 960])\n",
      "Protein ID: P17948, Embedding shape: torch.Size([1340, 960])\n",
      "Protein ID: P46109, Embedding shape: torch.Size([305, 960])\n",
      "Protein ID: P00533, Embedding shape: torch.Size([1212, 960])\n",
      "Protein ID: P30530, Embedding shape: torch.Size([896, 960])\n",
      "Protein ID: P17844, Embedding shape: torch.Size([616, 960])\n",
      "Protein ID: Q01780, Embedding shape: torch.Size([887, 960])\n",
      "Protein ID: P02795, Embedding shape: torch.Size([63, 960])\n",
      "Protein ID: Q13585, Embedding shape: torch.Size([619, 960])\n",
      "Protein ID: P29474, Embedding shape: torch.Size([1205, 960])\n",
      "Protein ID: P35222, Embedding shape: torch.Size([783, 960])\n",
      "Protein ID: Q96A49, Embedding shape: torch.Size([354, 960])\n",
      "Protein ID: Q99608, Embedding shape: torch.Size([323, 960])\n",
      "Protein ID: P08913, Embedding shape: torch.Size([467, 960])\n",
      "Protein ID: P18825, Embedding shape: torch.Size([464, 960])\n",
      "Protein ID: Q9BPZ3, Embedding shape: torch.Size([129, 960])\n",
      "Protein ID: P17661, Embedding shape: torch.Size([472, 960])\n",
      "Protein ID: Q9UBX2, Embedding shape: torch.Size([426, 960])\n",
      "Protein ID: O94829, Embedding shape: torch.Size([965, 960])\n",
      "Protein ID: O75914, Embedding shape: torch.Size([561, 960])\n",
      "Protein ID: P63000, Embedding shape: torch.Size([194, 960])\n",
      "Protein ID: O75342, Embedding shape: torch.Size([703, 960])\n",
      "Protein ID: Q9BYJ1, Embedding shape: torch.Size([713, 960])\n",
      "Protein ID: P26368, Embedding shape: torch.Size([477, 960])\n",
      "Protein ID: O14745, Embedding shape: torch.Size([360, 960])\n",
      "Protein ID: Q9BYF1, Embedding shape: torch.Size([807, 960])\n",
      "Protein ID: P13569, Embedding shape: torch.Size([1482, 960])\n",
      "Protein ID: P16615, Embedding shape: torch.Size([1044, 960])\n",
      "Protein ID: P20338, Embedding shape: torch.Size([220, 960])\n",
      "Protein ID: P50395, Embedding shape: torch.Size([447, 960])\n",
      "Protein ID: P07602, Embedding shape: torch.Size([526, 960])\n",
      "Protein ID: P31944, Embedding shape: torch.Size([244, 960])\n",
      "Protein ID: P30531, Embedding shape: torch.Size([601, 960])\n",
      "Protein ID: Q9H3Z4, Embedding shape: torch.Size([200, 960])\n",
      "Protein ID: Q6KC79, Embedding shape: torch.Size([1502, 960])\n",
      "Protein ID: P08621, Embedding shape: torch.Size([439, 960])\n",
      "Protein ID: Q07955, Embedding shape: torch.Size([250, 960])\n",
      "Protein ID: Q99707, Embedding shape: torch.Size([1267, 960])\n",
      "Protein ID: Q9Y4U1, Embedding shape: torch.Size([284, 960])\n",
      "Protein ID: Q8TDN4, Embedding shape: torch.Size([635, 960])\n",
      "Protein ID: Q9H3D4, Embedding shape: torch.Size([682, 960])\n",
      "Protein ID: Q9NPF5, Embedding shape: torch.Size([469, 960])\n",
      "Protein ID: P04626, Embedding shape: torch.Size([1257, 960])\n",
      "Protein ID: P15309, Embedding shape: torch.Size([388, 960])\n",
      "Protein ID: P06213, Embedding shape: torch.Size([1384, 960])\n",
      "Protein ID: P22413, Embedding shape: torch.Size([927, 960])\n",
      "Protein ID: P60484, Embedding shape: torch.Size([405, 960])\n",
      "Protein ID: Q16643, Embedding shape: torch.Size([651, 960])\n",
      "Protein ID: P10636, Embedding shape: torch.Size([760, 960])\n",
      "Protein ID: Q9NY61, Embedding shape: torch.Size([562, 960])\n",
      "Protein ID: P11021, Embedding shape: torch.Size([656, 960])\n",
      "Protein ID: P31749, Embedding shape: torch.Size([482, 960])\n",
      "Protein ID: P28335, Embedding shape: torch.Size([460, 960])\n",
      "Protein ID: P48039, Embedding shape: torch.Size([352, 960])\n",
      "Protein ID: Q01484, Embedding shape: torch.Size([1502, 960])\n",
      "Protein ID: Q8N960, Embedding shape: torch.Size([988, 960])\n",
      "Protein ID: P35968, Embedding shape: torch.Size([1358, 960])\n",
      "Protein ID: Q14114, Embedding shape: torch.Size([965, 960])\n",
      "Protein ID: P51681, Embedding shape: torch.Size([354, 960])\n",
      "Protein ID: Q16570, Embedding shape: torch.Size([338, 960])\n",
      "Protein ID: O43474, Embedding shape: torch.Size([515, 960])\n",
      "Protein ID: P15941, Embedding shape: torch.Size([1257, 960])\n",
      "Protein ID: O60840, Embedding shape: torch.Size([1502, 960])\n",
      "Protein ID: P57796, Embedding shape: torch.Size([277, 960])\n",
      "Protein ID: P29350, Embedding shape: torch.Size([597, 960])\n",
      "Protein ID: P32927, Embedding shape: torch.Size([899, 960])\n",
      "Protein ID: P07195, Embedding shape: torch.Size([336, 960])\n",
      "Protein ID: Q93050, Embedding shape: torch.Size([839, 960])\n",
      "Protein ID: P78381, Embedding shape: torch.Size([398, 960])\n",
      "Protein ID: Q9Y2D2, Embedding shape: torch.Size([327, 960])\n",
      "Protein ID: Q9Y253, Embedding shape: torch.Size([715, 960])\n",
      "Protein ID: P03372, Embedding shape: torch.Size([597, 960])\n",
      "Protein ID: Q92731, Embedding shape: torch.Size([532, 960])\n",
      "Protein ID: P08173, Embedding shape: torch.Size([481, 960])\n",
      "Protein ID: P16144, Embedding shape: torch.Size([1502, 960])\n",
      "Protein ID: Q99500, Embedding shape: torch.Size([380, 960])\n",
      "Protein ID: O94916, Embedding shape: torch.Size([1502, 960])\n",
      "Protein ID: Q92841, Embedding shape: torch.Size([731, 960])\n",
      "Protein ID: Q93074, Embedding shape: torch.Size([1502, 960])\n",
      "Protein ID: Q92692, Embedding shape: torch.Size([540, 960])\n",
      "Protein ID: P55072, Embedding shape: torch.Size([808, 960])\n",
      "Protein ID: Q5T124, Embedding shape: torch.Size([522, 960])\n",
      "Protein ID: Q14774, Embedding shape: torch.Size([490, 960])\n",
      "Protein ID: Q15022, Embedding shape: torch.Size([741, 960])\n",
      "Protein ID: Q6DN90, Embedding shape: torch.Size([965, 960])\n",
      "Protein ID: Q96Q42, Embedding shape: torch.Size([1502, 960])\n",
      "Protein ID: Q9NS75, Embedding shape: torch.Size([348, 960])\n",
      "Protein ID: Q9Y271, Embedding shape: torch.Size([339, 960])\n",
      "Protein ID: Q969W0, Embedding shape: torch.Size([73, 960])\n",
      "Protein ID: Q9NUV7, Embedding shape: torch.Size([554, 960])\n",
      "Protein ID: Q8NFR3, Embedding shape: torch.Size([78, 960])\n",
      "Protein ID: P43308, Embedding shape: torch.Size([185, 960])\n",
      "Protein ID: Q86WV6, Embedding shape: torch.Size([381, 960])\n",
      "Protein ID: P43034, Embedding shape: torch.Size([412, 960])\n",
      "Protein ID: Q14203, Embedding shape: torch.Size([1280, 960])\n",
      "Protein ID: Q6ZVM7, Embedding shape: torch.Size([509, 960])\n",
      "Protein ID: Q9UM54, Embedding shape: torch.Size([1296, 960])\n",
      "Protein ID: Q9NVA2, Embedding shape: torch.Size([431, 960])\n",
      "Protein ID: Q9UHD8, Embedding shape: torch.Size([588, 960])\n",
      "Protein ID: Q15172, Embedding shape: torch.Size([488, 960])\n",
      "Protein ID: Q562F6, Embedding shape: torch.Size([1267, 960])\n",
      "Protein ID: Q15019, Embedding shape: torch.Size([363, 960])\n",
      "Protein ID: P09429, Embedding shape: torch.Size([217, 960])\n",
      "Protein ID: P0CG48, Embedding shape: torch.Size([687, 960])\n",
      "Protein ID: P51151, Embedding shape: torch.Size([203, 960])\n",
      "Protein ID: Q9NQG7, Embedding shape: torch.Size([710, 960])\n",
      "Protein ID: O75190, Embedding shape: torch.Size([328, 960])\n",
      "Protein ID: P11142, Embedding shape: torch.Size([648, 960])\n",
      "Protein ID: O95801, Embedding shape: torch.Size([389, 960])\n",
      "Protein ID: Q99741, Embedding shape: torch.Size([562, 960])\n",
      "Protein ID: P68036, Embedding shape: torch.Size([156, 960])\n",
      "Protein ID: Q9NPC3, Embedding shape: torch.Size([279, 960])\n",
      "Protein ID: P07949, Embedding shape: torch.Size([1116, 960])\n",
      "Protein ID: P40763, Embedding shape: torch.Size([772, 960])\n",
      "Protein ID: Q16181, Embedding shape: torch.Size([439, 960])\n",
      "Protein ID: O15269, Embedding shape: torch.Size([475, 960])\n",
      "Protein ID: O75400, Embedding shape: torch.Size([959, 960])\n",
      "Protein ID: Q15637, Embedding shape: torch.Size([641, 960])\n",
      "Protein ID: Q9UL25, Embedding shape: torch.Size([227, 960])\n",
      "Protein ID: Q9UPN3, Embedding shape: torch.Size([1502, 960])\n",
      "Protein ID: P49454, Embedding shape: torch.Size([1502, 960])\n",
      "Protein ID: Q8WUM0, Embedding shape: torch.Size([1158, 960])\n",
      "Protein ID: Q6QNY1, Embedding shape: torch.Size([144, 960])\n",
      "Protein ID: Q8TDH9, Embedding shape: torch.Size([189, 960])\n",
      "Protein ID: P11362, Embedding shape: torch.Size([824, 960])\n",
      "Protein ID: P46108, Embedding shape: torch.Size([306, 960])\n",
      "Protein ID: Q6QNY0, Embedding shape: torch.Size([204, 960])\n",
      "Protein ID: O43303, Embedding shape: torch.Size([1014, 960])\n",
      "Protein ID: Q8NHV4, Embedding shape: torch.Size([662, 960])\n",
      "Protein ID: O60303, Embedding shape: torch.Size([1502, 960])\n",
      "Protein ID: Q13099, Embedding shape: torch.Size([826, 960])\n",
      "Protein ID: P01106, Embedding shape: torch.Size([441, 960])\n",
      "Protein ID: P58317, Embedding shape: torch.Size([392, 960])\n",
      "Protein ID: Q5VYV7, Embedding shape: torch.Size([410, 960])\n",
      "Protein ID: Q8IY92, Embedding shape: torch.Size([1502, 960])\n",
      "Protein ID: O75665, Embedding shape: torch.Size([1014, 960])\n",
      "Protein ID: Q8IUD2, Embedding shape: torch.Size([1118, 960])\n",
      "Protein ID: P78362, Embedding shape: torch.Size([690, 960])\n",
      "Protein ID: Q8IYB3, Embedding shape: torch.Size([906, 960])\n",
      "Protein ID: O14818, Embedding shape: torch.Size([250, 960])\n",
      "Protein ID: Q9Y244, Embedding shape: torch.Size([143, 960])\n",
      "Protein ID: P20823, Embedding shape: torch.Size([633, 960])\n",
      "Protein ID: Q9UBS8, Embedding shape: torch.Size([476, 960])\n",
      "Protein ID: P49810, Embedding shape: torch.Size([450, 960])\n",
      "Protein ID: Q53EL6, Embedding shape: torch.Size([471, 960])\n",
      "Protein ID: O15259, Embedding shape: torch.Size([734, 960])\n",
      "Protein ID: Q68CZ1, Embedding shape: torch.Size([1317, 960])\n",
      "Protein ID: P49768, Embedding shape: torch.Size([469, 960])\n",
      "Protein ID: P50502, Embedding shape: torch.Size([371, 960])\n",
      "Protein ID: Q5VIR6, Embedding shape: torch.Size([834, 960])\n",
      "Protein ID: Q9P1Q0, Embedding shape: torch.Size([979, 960])\n",
      "Protein ID: O14514, Embedding shape: torch.Size([1502, 960])\n",
      "Protein ID: O94812, Embedding shape: torch.Size([1189, 960])\n",
      "Protein ID: P60866, Embedding shape: torch.Size([121, 960])\n",
      "Protein ID: Q9H079, Embedding shape: torch.Size([306, 960])\n",
      "Protein ID: P41240, Embedding shape: torch.Size([452, 960])\n",
      "Protein ID: Q8NHL6, Embedding shape: torch.Size([652, 960])\n",
      "Protein ID: P02649, Embedding shape: torch.Size([319, 960])\n",
      "Protein ID: Q16543, Embedding shape: torch.Size([380, 960])\n",
      "Protein ID: Q13509, Embedding shape: torch.Size([452, 960])\n",
      "Protein ID: Q5S007, Embedding shape: torch.Size([1502, 960])\n",
      "Protein ID: P45973, Embedding shape: torch.Size([193, 960])\n",
      "Protein ID: Q92947, Embedding shape: torch.Size([440, 960])\n",
      "Protein ID: P25398, Embedding shape: torch.Size([134, 960])\n",
      "Protein ID: Q9NRF2, Embedding shape: torch.Size([758, 960])\n",
      "Protein ID: Q9NR30, Embedding shape: torch.Size([785, 960])\n",
      "Protein ID: Q13310, Embedding shape: torch.Size([646, 960])\n",
      "Protein ID: Q14204, Embedding shape: torch.Size([1502, 960])\n",
      "Protein ID: P19174, Embedding shape: torch.Size([1292, 960])\n",
      "Protein ID: O14879, Embedding shape: torch.Size([492, 960])\n",
      "Protein ID: P05067, Embedding shape: torch.Size([772, 960])\n",
      "Protein ID: Q7Z7G1, Embedding shape: torch.Size([430, 960])\n",
      "Protein ID: Q9UHJ3, Embedding shape: torch.Size([868, 960])\n",
      "Protein ID: P51668, Embedding shape: torch.Size([149, 960])\n",
      "Protein ID: Q9NZS9, Embedding shape: torch.Size([452, 960])\n",
      "Protein ID: O43566, Embedding shape: torch.Size([568, 960])\n",
      "Protein ID: P63096, Embedding shape: torch.Size([356, 960])\n",
      "Protein ID: P48552, Embedding shape: torch.Size([1160, 960])\n",
      "Protein ID: Q04917, Embedding shape: torch.Size([248, 960])\n",
      "Protein ID: Q53EZ4, Embedding shape: torch.Size([466, 960])\n",
      "Protein ID: O00459, Embedding shape: torch.Size([730, 960])\n",
      "Protein ID: P28799, Embedding shape: torch.Size([595, 960])\n",
      "Protein ID: P33316, Embedding shape: torch.Size([254, 960])\n",
      "Protein ID: Q99816, Embedding shape: torch.Size([392, 960])\n",
      "Protein ID: O60885, Embedding shape: torch.Size([1364, 960])\n",
      "Protein ID: Q92905, Embedding shape: torch.Size([336, 960])\n",
      "Protein ID: Q14847, Embedding shape: torch.Size([263, 960])\n",
      "Protein ID: Q8NBB4, Embedding shape: torch.Size([410, 960])\n",
      "Protein ID: Q96GX9, Embedding shape: torch.Size([244, 960])\n",
      "Protein ID: Q16548, Embedding shape: torch.Size([177, 960])\n",
      "Protein ID: Q8ND25, Embedding shape: torch.Size([229, 960])\n",
      "Protein ID: Q9BTE0, Embedding shape: torch.Size([209, 960])\n",
      "Protein ID: Q9BUZ4, Embedding shape: torch.Size([472, 960])\n",
      "Protein ID: O15160, Embedding shape: torch.Size([348, 960])\n",
      "Protein ID: O14933, Embedding shape: torch.Size([155, 960])\n",
      "Protein ID: Q96EQ8, Embedding shape: torch.Size([234, 960])\n",
      "Protein ID: Q13064, Embedding shape: torch.Size([509, 960])\n",
      "Protein ID: Q8NEA6, Embedding shape: torch.Size([777, 960])\n",
      "Protein ID: Q9NX00, Embedding shape: torch.Size([190, 960])\n",
      "Protein ID: P49368, Embedding shape: torch.Size([547, 960])\n",
      "Protein ID: P08631, Embedding shape: torch.Size([528, 960])\n",
      "Protein ID: Q8N5V2, Embedding shape: torch.Size([712, 960])\n",
      "Protein ID: P11802, Embedding shape: torch.Size([305, 960])\n",
      "Protein ID: Q9UJY4, Embedding shape: torch.Size([615, 960])\n",
      "Protein ID: Q9P0T4, Embedding shape: torch.Size([199, 960])\n",
      "Protein ID: P48436, Embedding shape: torch.Size([511, 960])\n",
      "Protein ID: Q00587, Embedding shape: torch.Size([393, 960])\n",
      "Protein ID: Q08AM6, Embedding shape: torch.Size([784, 960])\n",
      "Protein ID: P48509, Embedding shape: torch.Size([255, 960])\n",
      "Protein ID: Q4VC05, Embedding shape: torch.Size([212, 960])\n",
      "Protein ID: Q06787, Embedding shape: torch.Size([634, 960])\n",
      "Protein ID: Q7L576, Embedding shape: torch.Size([1255, 960])\n",
      "Protein ID: Q96D05, Embedding shape: torch.Size([123, 960])\n",
      "Protein ID: Q96CG3, Embedding shape: torch.Size([186, 960])\n",
      "Protein ID: O95376, Embedding shape: torch.Size([495, 960])\n",
      "Protein ID: Q9NPD8, Embedding shape: torch.Size([199, 960])\n",
      "Protein ID: P0C7W6, Embedding shape: torch.Size([260, 960])\n",
      "Protein ID: P78356, Embedding shape: torch.Size([418, 960])\n",
      "Protein ID: O14770, Embedding shape: torch.Size([479, 960])\n",
      "Protein ID: P24592, Embedding shape: torch.Size([242, 960])\n",
      "Protein ID: Q15125, Embedding shape: torch.Size([232, 960])\n",
      "Protein ID: Q9NYZ1, Embedding shape: torch.Size([207, 960])\n",
      "Protein ID: P31273, Embedding shape: torch.Size([244, 960])\n",
      "Protein ID: Q9NXV2, Embedding shape: torch.Size([236, 960])\n",
      "Protein ID: Q9UBU9, Embedding shape: torch.Size([621, 960])\n",
      "Protein ID: Q07869, Embedding shape: torch.Size([470, 960])\n",
      "Protein ID: Q13191, Embedding shape: torch.Size([984, 960])\n",
      "Protein ID: O14656, Embedding shape: torch.Size([334, 960])\n",
      "Protein ID: Q96NW7, Embedding shape: torch.Size([1502, 960])\n",
      "Protein ID: Q96B45, Embedding shape: torch.Size([108, 960])\n",
      "Protein ID: Q9H6X4, Embedding shape: torch.Size([197, 960])\n",
      "Protein ID: Q5VSY0, Embedding shape: torch.Size([368, 960])\n",
      "Protein ID: Q9BWG6, Embedding shape: torch.Size([232, 960])\n",
      "Protein ID: O95751, Embedding shape: torch.Size([148, 960])\n",
      "Protein ID: Q9C0A6, Embedding shape: torch.Size([1444, 960])\n",
      "Protein ID: Q6UX72, Embedding shape: torch.Size([404, 960])\n",
      "Protein ID: Q8TAP4, Embedding shape: torch.Size([147, 960])\n",
      "Protein ID: A1XBS5, Embedding shape: torch.Size([291, 960])\n",
      "Protein ID: P21741, Embedding shape: torch.Size([145, 960])\n",
      "Protein ID: P41161, Embedding shape: torch.Size([512, 960])\n",
      "Protein ID: O43559, Embedding shape: torch.Size([494, 960])\n",
      "Protein ID: Q3B8N2, Embedding shape: torch.Size([358, 960])\n",
      "Protein ID: Q5T742, Embedding shape: torch.Size([124, 960])\n",
      "Protein ID: O00221, Embedding shape: torch.Size([502, 960])\n",
      "Protein ID: Q04206, Embedding shape: torch.Size([553, 960])\n",
      "Protein ID: Q9H7E9, Embedding shape: torch.Size([231, 960])\n",
      "Protein ID: Q15750, Embedding shape: torch.Size([506, 960])\n",
      "Protein ID: Q8WZ19, Embedding shape: torch.Size([331, 960])\n",
      "Protein ID: P35555, Embedding shape: torch.Size([1502, 960])\n",
      "Protein ID: P55083, Embedding shape: torch.Size([257, 960])\n",
      "Protein ID: Q9Y5P3, Embedding shape: torch.Size([532, 960])\n",
      "Protein ID: P55795, Embedding shape: torch.Size([451, 960])\n",
      "Protein ID: Q01844, Embedding shape: torch.Size([658, 960])\n",
      "Protein ID: Q7Z7B1, Embedding shape: torch.Size([506, 960])\n",
      "Protein ID: Q7Z6E9, Embedding shape: torch.Size([1502, 960])\n",
      "Protein ID: Q9BTP7, Embedding shape: torch.Size([217, 960])\n",
      "Protein ID: Q13232, Embedding shape: torch.Size([171, 960])\n",
      "Protein ID: Q6P1J6, Embedding shape: torch.Size([1460, 960])\n",
      "Protein ID: P50552, Embedding shape: torch.Size([382, 960])\n",
      "Protein ID: Q05086, Embedding shape: torch.Size([877, 960])\n",
      "Protein ID: Q15038, Embedding shape: torch.Size([170, 960])\n",
      "Protein ID: P41134, Embedding shape: torch.Size([157, 960])\n",
      "Protein ID: Q9NUX5, Embedding shape: torch.Size([636, 960])\n",
      "Protein ID: P55273, Embedding shape: torch.Size([168, 960])\n",
      "Protein ID: P62324, Embedding shape: torch.Size([173, 960])\n",
      "Protein ID: Q8TAK6, Embedding shape: torch.Size([273, 960])\n",
      "Protein ID: P46379, Embedding shape: torch.Size([1134, 960])\n",
      "Protein ID: Q9UHD9, Embedding shape: torch.Size([626, 960])\n",
      "Protein ID: Q96IW2, Embedding shape: torch.Size([342, 960])\n",
      "Protein ID: Q9HC96, Embedding shape: torch.Size([674, 960])\n",
      "Protein ID: Q5VTD9, Embedding shape: torch.Size([332, 960])\n",
      "Protein ID: Q9BUH8, Embedding shape: torch.Size([595, 960])\n",
      "Protein ID: Q8NA54, Embedding shape: torch.Size([793, 960])\n",
      "Protein ID: Q8WY64, Embedding shape: torch.Size([447, 960])\n",
      "Protein ID: P42679, Embedding shape: torch.Size([509, 960])\n",
      "Protein ID: P54725, Embedding shape: torch.Size([365, 960])\n",
      "Protein ID: Q96EY7, Embedding shape: torch.Size([691, 960])\n",
      "Protein ID: Q6NSW7, Embedding shape: torch.Size([307, 960])\n",
      "Protein ID: Q5T749, Embedding shape: torch.Size([581, 960])\n",
      "Protein ID: P0DJI9, Embedding shape: torch.Size([124, 960])\n",
      "Protein ID: O14796, Embedding shape: torch.Size([134, 960])\n",
      "Protein ID: Q8IYI6, Embedding shape: torch.Size([727, 960])\n",
      "Protein ID: Q8TBN0, Embedding shape: torch.Size([384, 960])\n",
      "Protein ID: Q8N3R9, Embedding shape: torch.Size([677, 960])\n",
      "Protein ID: Q9UI14, Embedding shape: torch.Size([187, 960])\n",
      "Protein ID: P15927, Embedding shape: torch.Size([272, 960])\n",
      "Protein ID: Q93086, Embedding shape: torch.Size([424, 960])\n",
      "Protein ID: Q96FH0, Embedding shape: torch.Size([121, 960])\n",
      "Protein ID: Q9H706, Embedding shape: torch.Size([878, 960])\n",
      "Protein ID: P21754, Embedding shape: torch.Size([426, 960])\n",
      "Protein ID: Q14157, Embedding shape: torch.Size([1089, 960])\n",
      "Protein ID: Q12841, Embedding shape: torch.Size([310, 960])\n",
      "Protein ID: P14921, Embedding shape: torch.Size([443, 960])\n",
      "Protein ID: Q9UER7, Embedding shape: torch.Size([742, 960])\n",
      "Protein ID: Q6P5X5, Embedding shape: torch.Size([144, 960])\n",
      "Protein ID: O43251, Embedding shape: torch.Size([392, 960])\n",
      "Protein ID: O14917, Embedding shape: torch.Size([1161, 960])\n",
      "Protein ID: Q8TD91, Embedding shape: torch.Size([645, 960])\n",
      "Protein ID: Q8N3F8, Embedding shape: torch.Size([865, 960])\n",
      "Protein ID: Q9NR46, Embedding shape: torch.Size([397, 960])\n",
      "Protein ID: Q13492, Embedding shape: torch.Size([654, 960])\n",
      "Protein ID: Q9Y2K1, Embedding shape: torch.Size([715, 960])\n",
      "Protein ID: Q93062, Embedding shape: torch.Size([198, 960])\n",
      "Protein ID: P62837, Embedding shape: torch.Size([149, 960])\n",
      "Protein ID: Q9BV68, Embedding shape: torch.Size([313, 960])\n",
      "Protein ID: P02749, Embedding shape: torch.Size([347, 960])\n",
      "Protein ID: P11226, Embedding shape: torch.Size([250, 960])\n",
      "Protein ID: Q13308, Embedding shape: torch.Size([1072, 960])\n",
      "Protein ID: O14544, Embedding shape: torch.Size([537, 960])\n",
      "Protein ID: Q9H190, Embedding shape: torch.Size([294, 960])\n",
      "Protein ID: Q92854, Embedding shape: torch.Size([864, 960])\n",
      "Protein ID: Q9NPJ6, Embedding shape: torch.Size([272, 960])\n",
      "Protein ID: Q96DZ7, Embedding shape: torch.Size([211, 960])\n",
      "Protein ID: P10415, Embedding shape: torch.Size([241, 960])\n",
      "Protein ID: P63098, Embedding shape: torch.Size([172, 960])\n",
      "Protein ID: Q96AA8, Embedding shape: torch.Size([812, 960])\n",
      "Protein ID: P21673, Embedding shape: torch.Size([173, 960])\n",
      "Protein ID: Q9BYD2, Embedding shape: torch.Size([269, 960])\n",
      "Protein ID: Q8IXA5, Embedding shape: torch.Size([217, 960])\n",
      "Protein ID: P42773, Embedding shape: torch.Size([170, 960])\n",
      "Protein ID: P19544, Embedding shape: torch.Size([451, 960])\n",
      "Protein ID: Q3B820, Embedding shape: torch.Size([662, 960])\n",
      "Protein ID: P23142, Embedding shape: torch.Size([705, 960])\n",
      "Protein ID: P84022, Embedding shape: torch.Size([427, 960])\n",
      "Protein ID: Q6PF18, Embedding shape: torch.Size([242, 960])\n",
      "Protein ID: P07332, Embedding shape: torch.Size([824, 960])\n",
      "Protein ID: Q9H257, Embedding shape: torch.Size([538, 960])\n",
      "Protein ID: Q9NVF9, Embedding shape: torch.Size([388, 960])\n",
      "Protein ID: P35125, Embedding shape: torch.Size([1408, 960])\n",
      "Protein ID: Q9NPC6, Embedding shape: torch.Size([266, 960])\n",
      "Protein ID: O95848, Embedding shape: torch.Size([224, 960])\n",
      "Protein ID: Q9UKT9, Embedding shape: torch.Size([511, 960])\n",
      "Protein ID: Q9UBC3, Embedding shape: torch.Size([855, 960])\n",
      "Protein ID: Q9Y6K1, Embedding shape: torch.Size([914, 960])\n",
      "Protein ID: P00352, Embedding shape: torch.Size([503, 960])\n",
      "Protein ID: P05091, Embedding shape: torch.Size([519, 960])\n",
      "Protein ID: O60636, Embedding shape: torch.Size([223, 960])\n",
      "Protein ID: Q96EC8, Embedding shape: torch.Size([238, 960])\n",
      "Protein ID: P28482, Embedding shape: torch.Size([362, 960])\n",
      "Protein ID: Q9P003, Embedding shape: torch.Size([141, 960])\n",
      "Protein ID: Q14919, Embedding shape: torch.Size([207, 960])\n",
      "Protein ID: Q8TF50, Embedding shape: torch.Size([672, 960])\n",
      "Protein ID: P08962, Embedding shape: torch.Size([240, 960])\n",
      "Protein ID: Q5JR59, Embedding shape: torch.Size([1371, 960])\n",
      "Protein ID: Q96LI6, Embedding shape: torch.Size([403, 960])\n",
      "Protein ID: P67775, Embedding shape: torch.Size([311, 960])\n",
      "Protein ID: P48059, Embedding shape: torch.Size([327, 960])\n",
      "Protein ID: Q9NS73, Embedding shape: torch.Size([346, 960])\n",
      "Protein ID: Q96B49, Embedding shape: torch.Size([76, 960])\n",
      "Protein ID: P48775, Embedding shape: torch.Size([408, 960])\n",
      "Protein ID: P14373, Embedding shape: torch.Size([515, 960])\n",
      "Protein ID: Q04864, Embedding shape: torch.Size([621, 960])\n",
      "Protein ID: Q8WWG9, Embedding shape: torch.Size([223, 960])\n",
      "Protein ID: Q9NQB0, Embedding shape: torch.Size([621, 960])\n",
      "Protein ID: Q99704, Embedding shape: torch.Size([483, 960])\n",
      "Protein ID: Q15633, Embedding shape: torch.Size([368, 960])\n",
      "Protein ID: Q6ZVK8, Embedding shape: torch.Size([325, 960])\n",
      "Protein ID: Q8WWW0, Embedding shape: torch.Size([420, 960])\n",
      "Protein ID: Q8TBB1, Embedding shape: torch.Size([730, 960])\n",
      "Protein ID: O00308, Embedding shape: torch.Size([872, 960])\n",
      "Protein ID: Q8TES7, Embedding shape: torch.Size([1135, 960])\n",
      "Protein ID: P53365, Embedding shape: torch.Size([343, 960])\n",
      "Protein ID: P84077, Embedding shape: torch.Size([183, 960])\n",
      "Protein ID: Q9H8W4, Embedding shape: torch.Size([251, 960])\n",
      "Protein ID: Q96EP1, Embedding shape: torch.Size([666, 960])\n",
      "Protein ID: Q9Y2X8, Embedding shape: torch.Size([149, 960])\n",
      "Protein ID: P10451, Embedding shape: torch.Size([316, 960])\n",
      "Protein ID: Q9NRR5, Embedding shape: torch.Size([603, 960])\n",
      "Protein ID: O43447, Embedding shape: torch.Size([179, 960])\n",
      "Protein ID: Q5SW96, Embedding shape: torch.Size([310, 960])\n",
      "Protein ID: Q6P5S2, Embedding shape: torch.Size([332, 960])\n",
      "Protein ID: P54259, Embedding shape: torch.Size([1192, 960])\n",
      "Protein ID: Q8N5A5, Embedding shape: torch.Size([533, 960])\n",
      "Protein ID: Q03431, Embedding shape: torch.Size([595, 960])\n",
      "Protein ID: Q8NBZ0, Embedding shape: torch.Size([246, 960])\n",
      "Protein ID: P31947, Embedding shape: torch.Size([250, 960])\n",
      "Protein ID: O60496, Embedding shape: torch.Size([414, 960])\n",
      "Protein ID: Q9BYZ2, Embedding shape: torch.Size([383, 960])\n",
      "Protein ID: G2XKQ0, Embedding shape: torch.Size([103, 960])\n",
      "Protein ID: O75925, Embedding shape: torch.Size([653, 960])\n",
      "Protein ID: Q53HC0, Embedding shape: torch.Size([333, 960])\n",
      "Protein ID: Q6UY14, Embedding shape: torch.Size([1076, 960])\n",
      "Protein ID: Q9Y467, Embedding shape: torch.Size([1009, 960])\n",
      "Protein ID: Q86VK4, Embedding shape: torch.Size([480, 960])\n",
      "Protein ID: Q92560, Embedding shape: torch.Size([731, 960])\n",
      "Protein ID: Q9UIL1, Embedding shape: torch.Size([161, 960])\n",
      "Protein ID: Q86UA6, Embedding shape: torch.Size([221, 960])\n",
      "Protein ID: Q06124, Embedding shape: torch.Size([595, 960])\n",
      "Protein ID: P63279, Embedding shape: torch.Size([160, 960])\n",
      "Protein ID: Q12800, Embedding shape: torch.Size([504, 960])\n",
      "Protein ID: Q8IVP5, Embedding shape: torch.Size([157, 960])\n",
      "Protein ID: Q9H0R8, Embedding shape: torch.Size([119, 960])\n",
      "Protein ID: Q53G59, Embedding shape: torch.Size([570, 960])\n",
      "Protein ID: Q6UUV7, Embedding shape: torch.Size([621, 960])\n",
      "Protein ID: Q92530, Embedding shape: torch.Size([273, 960])\n",
      "Protein ID: O43929, Embedding shape: torch.Size([438, 960])\n",
      "Protein ID: Q92781, Embedding shape: torch.Size([320, 960])\n",
      "Protein ID: O43307, Embedding shape: torch.Size([518, 960])\n",
      "Protein ID: Q6A162, Embedding shape: torch.Size([433, 960])\n",
      "Protein ID: Q9ULM2, Embedding shape: torch.Size([531, 960])\n",
      "Protein ID: P35998, Embedding shape: torch.Size([435, 960])\n",
      "Protein ID: P38936, Embedding shape: torch.Size([166, 960])\n",
      "Protein ID: Q13131, Embedding shape: torch.Size([561, 960])\n",
      "Protein ID: Q96L93, Embedding shape: torch.Size([1319, 960])\n",
      "Protein ID: Q13136, Embedding shape: torch.Size([1204, 960])\n",
      "Protein ID: Q8NHQ1, Embedding shape: torch.Size([599, 960])\n",
      "Protein ID: Q8N6Y0, Embedding shape: torch.Size([705, 960])\n",
      "Protein ID: Q9NX63, Embedding shape: torch.Size([229, 960])\n",
      "Protein ID: Q9NPJ4, Embedding shape: torch.Size([141, 960])\n",
      "Protein ID: Q13322, Embedding shape: torch.Size([596, 960])\n",
      "Protein ID: Q9UQB8, Embedding shape: torch.Size([554, 960])\n",
      "Protein ID: Q08117, Embedding shape: torch.Size([199, 960])\n",
      "Protein ID: O75970, Embedding shape: torch.Size([1502, 960])\n",
      "Protein ID: Q92625, Embedding shape: torch.Size([1136, 960])\n",
      "Protein ID: Q9BVC4, Embedding shape: torch.Size([328, 960])\n",
      "Protein ID: P20700, Embedding shape: torch.Size([588, 960])\n",
      "Protein ID: P36956, Embedding shape: torch.Size([1149, 960])\n",
      "Protein ID: P53611, Embedding shape: torch.Size([333, 960])\n",
      "Protein ID: Q96AX2, Embedding shape: torch.Size([225, 960])\n",
      "Protein ID: Q14494, Embedding shape: torch.Size([774, 960])\n",
      "Protein ID: Q9NVD7, Embedding shape: torch.Size([374, 960])\n",
      "Protein ID: Q86WK9, Embedding shape: torch.Size([348, 960])\n",
      "Protein ID: Q15435, Embedding shape: torch.Size([362, 960])\n",
      "Protein ID: O43915, Embedding shape: torch.Size([356, 960])\n",
      "Protein ID: Q15836, Embedding shape: torch.Size([102, 960])\n",
      "Protein ID: Q15323, Embedding shape: torch.Size([418, 960])\n",
      "Protein ID: Q5VU43, Embedding shape: torch.Size([1502, 960])\n",
      "Protein ID: P61421, Embedding shape: torch.Size([353, 960])\n",
      "Protein ID: Q8N448, Embedding shape: torch.Size([692, 960])\n",
      "Protein ID: Q9P0N9, Embedding shape: torch.Size([295, 960])\n",
      "Protein ID: O75553, Embedding shape: torch.Size([590, 960])\n",
      "Protein ID: Q68DK2, Embedding shape: torch.Size([1502, 960])\n",
      "Protein ID: Q6NUQ1, Embedding shape: torch.Size([794, 960])\n",
      "Protein ID: Q8WWY3, Embedding shape: torch.Size([501, 960])\n",
      "Protein ID: O95050, Embedding shape: torch.Size([265, 960])\n",
      "Protein ID: Q9BQY4, Embedding shape: torch.Size([290, 960])\n",
      "Protein ID: Q14449, Embedding shape: torch.Size([542, 960])\n",
      "Protein ID: Q9P289, Embedding shape: torch.Size([418, 960])\n",
      "Protein ID: P60329, Embedding shape: torch.Size([114, 960])\n",
      "Protein ID: P16333, Embedding shape: torch.Size([379, 960])\n",
      "Protein ID: Q9UNA4, Embedding shape: torch.Size([742, 960])\n",
      "Protein ID: O75461, Embedding shape: torch.Size([283, 960])\n",
      "Protein ID: P08069, Embedding shape: torch.Size([1369, 960])\n",
      "Protein ID: O75791, Embedding shape: torch.Size([332, 960])\n",
      "Protein ID: P07947, Embedding shape: torch.Size([545, 960])\n",
      "Protein ID: Q14457, Embedding shape: torch.Size([452, 960])\n",
      "Protein ID: P56705, Embedding shape: torch.Size([353, 960])\n",
      "Protein ID: Q96HE8, Embedding shape: torch.Size([218, 960])\n",
      "Protein ID: O43741, Embedding shape: torch.Size([274, 960])\n",
      "Protein ID: P61289, Embedding shape: torch.Size([256, 960])\n",
      "Protein ID: P62256, Embedding shape: torch.Size([185, 960])\n",
      "Protein ID: Q63HR2, Embedding shape: torch.Size([1411, 960])\n",
      "Protein ID: A6NJ69, Embedding shape: torch.Size([55, 960])\n",
      "Protein ID: Q13387, Embedding shape: torch.Size([826, 960])\n",
      "Protein ID: Q86YD7, Embedding shape: torch.Size([466, 960])\n",
      "Protein ID: P61088, Embedding shape: torch.Size([154, 960])\n",
      "Protein ID: Q86Y13, Embedding shape: torch.Size([1210, 960])\n",
      "Protein ID: O95182, Embedding shape: torch.Size([115, 960])\n",
      "Protein ID: P01732, Embedding shape: torch.Size([237, 960])\n",
      "Protein ID: P06493, Embedding shape: torch.Size([299, 960])\n",
      "Protein ID: Q16718, Embedding shape: torch.Size([118, 960])\n",
      "Protein ID: O15162, Embedding shape: torch.Size([320, 960])\n",
      "Protein ID: Q5T5A8, Embedding shape: torch.Size([96, 960])\n",
      "Protein ID: P23497, Embedding shape: torch.Size([881, 960])\n",
      "Protein ID: Q03060, Embedding shape: torch.Size([347, 960])\n",
      "Protein ID: Q8N0S2, Embedding shape: torch.Size([353, 960])\n",
      "Protein ID: Q8TAX7, Embedding shape: torch.Size([379, 960])\n",
      "Protein ID: Q9BSM1, Embedding shape: torch.Size([261, 960])\n",
      "Protein ID: Q5JST6, Embedding shape: torch.Size([751, 960])\n",
      "Protein ID: P10809, Embedding shape: torch.Size([575, 960])\n",
      "Protein ID: P16885, Embedding shape: torch.Size([1267, 960])\n",
      "Protein ID: A1A4S6, Embedding shape: torch.Size([788, 960])\n",
      "Protein ID: P78314, Embedding shape: torch.Size([563, 960])\n",
      "Protein ID: Q96CS2, Embedding shape: torch.Size([280, 960])\n",
      "Protein ID: Q96ED9, Embedding shape: torch.Size([721, 960])\n",
      "Protein ID: P29972, Embedding shape: torch.Size([271, 960])\n",
      "Protein ID: Q9H7T9, Embedding shape: torch.Size([359, 960])\n",
      "Protein ID: Q13285, Embedding shape: torch.Size([463, 960])\n",
      "Protein ID: P11277, Embedding shape: torch.Size([1502, 960])\n",
      "Protein ID: Q96HE7, Embedding shape: torch.Size([470, 960])\n",
      "Protein ID: Q15583, Embedding shape: torch.Size([403, 960])\n",
      "Protein ID: P12830, Embedding shape: torch.Size([884, 960])\n",
      "Protein ID: P42345, Embedding shape: torch.Size([1502, 960])\n",
      "Protein ID: Q13615, Embedding shape: torch.Size([1200, 960])\n",
      "Protein ID: P14778, Embedding shape: torch.Size([571, 960])\n",
      "Protein ID: O43187, Embedding shape: torch.Size([627, 960])\n",
      "Protein ID: Q13148, Embedding shape: torch.Size([416, 960])\n",
      "Protein ID: O95696, Embedding shape: torch.Size([1060, 960])\n",
      "Protein ID: P10398, Embedding shape: torch.Size([608, 960])\n",
      "Protein ID: Q9UPY3, Embedding shape: torch.Size([1502, 960])\n",
      "Protein ID: Q8TEM1, Embedding shape: torch.Size([1502, 960])\n",
      "Protein ID: Q9UQ80, Embedding shape: torch.Size([396, 960])\n",
      "Protein ID: P46531, Embedding shape: torch.Size([1502, 960])\n",
      "Protein ID: Q8IZL2, Embedding shape: torch.Size([1158, 960])\n",
      "Protein ID: Q13416, Embedding shape: torch.Size([579, 960])\n",
      "Protein ID: O60941, Embedding shape: torch.Size([629, 960])\n",
      "Protein ID: Q9UBT7, Embedding shape: torch.Size([736, 960])\n",
      "Protein ID: Q92583, Embedding shape: torch.Size([96, 960])\n",
      "Protein ID: Q7LBE3, Embedding shape: torch.Size([793, 960])\n",
      "Protein ID: Q9HD26, Embedding shape: torch.Size([464, 960])\n",
      "Protein ID: P58004, Embedding shape: torch.Size([482, 960])\n",
      "Protein ID: Q14145, Embedding shape: torch.Size([626, 960])\n",
      "Protein ID: P12956, Embedding shape: torch.Size([611, 960])\n",
      "Protein ID: Q6NT76, Embedding shape: torch.Size([422, 960])\n",
      "Protein ID: P45983, Embedding shape: torch.Size([429, 960])\n",
      "Protein ID: Q8N122, Embedding shape: torch.Size([1337, 960])\n",
      "Protein ID: Q96EB6, Embedding shape: torch.Size([749, 960])\n",
      "Protein ID: Q14432, Embedding shape: torch.Size([1143, 960])\n",
      "Protein ID: Q9Y6D5, Embedding shape: torch.Size([1502, 960])\n",
      "Protein ID: P07948, Embedding shape: torch.Size([514, 960])\n",
      "Protein ID: P20273, Embedding shape: torch.Size([849, 960])\n",
      "Protein ID: Q8WUF5, Embedding shape: torch.Size([830, 960])\n",
      "Protein ID: P01258, Embedding shape: torch.Size([143, 960])\n",
      "Protein ID: P23634, Embedding shape: torch.Size([1243, 960])\n",
      "Protein ID: P35813, Embedding shape: torch.Size([384, 960])\n",
      "Protein ID: P25101, Embedding shape: torch.Size([429, 960])\n",
      "Protein ID: Q92900, Embedding shape: torch.Size([1131, 960])\n",
      "Protein ID: Q5D1E8, Embedding shape: torch.Size([601, 960])\n",
      "Protein ID: P53004, Embedding shape: torch.Size([298, 960])\n",
      "Protein ID: Q09428, Embedding shape: torch.Size([1502, 960])\n",
      "Protein ID: Q14654, Embedding shape: torch.Size([392, 960])\n",
      "Protein ID: P33981, Embedding shape: torch.Size([859, 960])\n",
      "Protein ID: Q9BZD4, Embedding shape: torch.Size([466, 960])\n",
      "Protein ID: O75964, Embedding shape: torch.Size([105, 960])\n",
      "Protein ID: Q8WW59, Embedding shape: torch.Size([209, 960])\n",
      "Protein ID: Q13523, Embedding shape: torch.Size([1009, 960])\n",
      "Protein ID: P22304, Embedding shape: torch.Size([552, 960])\n",
      "Protein ID: Q8NBJ7, Embedding shape: torch.Size([303, 960])\n",
      "Protein ID: P0C0S8, Embedding shape: torch.Size([132, 960])\n",
      "Protein ID: Q99543, Embedding shape: torch.Size([623, 960])\n",
      "Protein ID: O95218, Embedding shape: torch.Size([332, 960])\n",
      "Protein ID: O75569, Embedding shape: torch.Size([315, 960])\n",
      "Protein ID: Q9BYX4, Embedding shape: torch.Size([1027, 960])\n",
      "Protein ID: Q8TEW0, Embedding shape: torch.Size([1358, 960])\n",
      "Protein ID: Q9BYG4, Embedding shape: torch.Size([378, 960])\n",
      "Protein ID: Q14493, Embedding shape: torch.Size([272, 960])\n",
      "Protein ID: O76081, Embedding shape: torch.Size([390, 960])\n",
      "Protein ID: P49286, Embedding shape: torch.Size([364, 960])\n",
      "Protein ID: Q04759, Embedding shape: torch.Size([708, 960])\n",
      "Protein ID: P46940, Embedding shape: torch.Size([1502, 960])\n",
      "Protein ID: Q05823, Embedding shape: torch.Size([743, 960])\n",
      "Protein ID: P85037, Embedding shape: torch.Size([735, 960])\n",
      "Protein ID: P14618, Embedding shape: torch.Size([533, 960])\n",
      "Protein ID: P30260, Embedding shape: torch.Size([826, 960])\n",
      "Protein ID: Q01085, Embedding shape: torch.Size([377, 960])\n",
      "Protein ID: Q9HCE1, Embedding shape: torch.Size([1005, 960])\n",
      "Protein ID: Q03135, Embedding shape: torch.Size([180, 960])\n",
      "Protein ID: Q99814, Embedding shape: torch.Size([872, 960])\n",
      "Protein ID: P35226, Embedding shape: torch.Size([328, 960])\n",
      "Protein ID: Q99496, Embedding shape: torch.Size([338, 960])\n",
      "Protein ID: Q9HCK8, Embedding shape: torch.Size([1502, 960])\n",
      "Protein ID: Q9UBL3, Embedding shape: torch.Size([630, 960])\n",
      "Protein ID: P30203, Embedding shape: torch.Size([670, 960])\n",
      "Protein ID: Q13094, Embedding shape: torch.Size([535, 960])\n",
      "Protein ID: P30086, Embedding shape: torch.Size([189, 960])\n",
      "Protein ID: P16050, Embedding shape: torch.Size([664, 960])\n",
      "Protein ID: O95402, Embedding shape: torch.Size([602, 960])\n",
      "Protein ID: Q96JC9, Embedding shape: torch.Size([270, 960])\n",
      "Protein ID: Q149N8, Embedding shape: torch.Size([1502, 960])\n",
      "Protein ID: O75688, Embedding shape: torch.Size([481, 960])\n",
      "Protein ID: P09874, Embedding shape: torch.Size([1016, 960])\n",
      "Protein ID: Q8IY21, Embedding shape: torch.Size([1502, 960])\n",
      "Protein ID: P25205, Embedding shape: torch.Size([810, 960])\n",
      "Protein ID: P62805, Embedding shape: torch.Size([105, 960])\n",
      "Protein ID: P33992, Embedding shape: torch.Size([736, 960])\n",
      "Protein ID: P43246, Embedding shape: torch.Size([936, 960])\n",
      "Protein ID: P84243, Embedding shape: torch.Size([138, 960])\n",
      "Protein ID: Q13111, Embedding shape: torch.Size([958, 960])\n",
      "Protein ID: Q9H7Z6, Embedding shape: torch.Size([460, 960])\n",
      "Protein ID: Q15773, Embedding shape: torch.Size([250, 960])\n",
      "Protein ID: Q99933, Embedding shape: torch.Size([347, 960])\n",
      "Protein ID: P46977, Embedding shape: torch.Size([707, 960])\n",
      "Protein ID: Q99549, Embedding shape: torch.Size([862, 960])\n",
      "Protein ID: Q9UK61, Embedding shape: torch.Size([1502, 960])\n",
      "Protein ID: P10071, Embedding shape: torch.Size([1502, 960])\n",
      "Protein ID: Q04741, Embedding shape: torch.Size([292, 960])\n",
      "Protein ID: P36957, Embedding shape: torch.Size([455, 960])\n",
      "Protein ID: Q9NUL3, Embedding shape: torch.Size([572, 960])\n",
      "Protein ID: P35240, Embedding shape: torch.Size([597, 960])\n",
      "Protein ID: Q8NI35, Embedding shape: torch.Size([1502, 960])\n",
      "Protein ID: Q9UH73, Embedding shape: torch.Size([593, 960])\n",
      "Protein ID: P78560, Embedding shape: torch.Size([201, 960])\n",
      "Protein ID: Q9Y5W5, Embedding shape: torch.Size([381, 960])\n",
      "Protein ID: Q9ULV8, Embedding shape: torch.Size([476, 960])\n",
      "Protein ID: Q8TD31, Embedding shape: torch.Size([784, 960])\n",
      "Protein ID: P61077, Embedding shape: torch.Size([149, 960])\n",
      "Protein ID: Q8IY31, Embedding shape: torch.Size([134, 960])\n",
      "Protein ID: Q92558, Embedding shape: torch.Size([561, 960])\n",
      "Protein ID: P15884, Embedding shape: torch.Size([669, 960])\n",
      "Protein ID: Q9Y5U2, Embedding shape: torch.Size([331, 960])\n",
      "Protein ID: O95429, Embedding shape: torch.Size([459, 960])\n",
      "Protein ID: P35268, Embedding shape: torch.Size([130, 960])\n",
      "Protein ID: P04049, Embedding shape: torch.Size([650, 960])\n",
      "Protein ID: P05783, Embedding shape: torch.Size([432, 960])\n",
      "Protein ID: O15033, Embedding shape: torch.Size([825, 960])\n",
      "Protein ID: Q06187, Embedding shape: torch.Size([661, 960])\n",
      "Protein ID: Q9Y5V3, Embedding shape: torch.Size([780, 960])\n",
      "Protein ID: Q9BW85, Embedding shape: torch.Size([325, 960])\n",
      "Protein ID: Q9Y3C6, Embedding shape: torch.Size([168, 960])\n",
      "Protein ID: Q9Y508, Embedding shape: torch.Size([230, 960])\n",
      "Protein ID: P51948, Embedding shape: torch.Size([311, 960])\n",
      "Protein ID: Q9H334, Embedding shape: torch.Size([679, 960])\n",
      "Protein ID: Q96HA8, Embedding shape: torch.Size([207, 960])\n",
      "Protein ID: P51795, Embedding shape: torch.Size([818, 960])\n",
      "Protein ID: Q14451, Embedding shape: torch.Size([534, 960])\n",
      "Protein ID: Q09472, Embedding shape: torch.Size([1502, 960])\n",
      "Protein ID: Q9UMX0, Embedding shape: torch.Size([591, 960])\n",
      "Protein ID: P00797, Embedding shape: torch.Size([408, 960])\n",
      "Protein ID: Q8N4L8, Embedding shape: torch.Size([309, 960])\n",
      "Protein ID: P04637, Embedding shape: torch.Size([395, 960])\n",
      "Protein ID: Q13200, Embedding shape: torch.Size([910, 960])\n",
      "Protein ID: Q9UHE8, Embedding shape: torch.Size([341, 960])\n",
      "Protein ID: P18847, Embedding shape: torch.Size([183, 960])\n",
      "Protein ID: P52630, Embedding shape: torch.Size([853, 960])\n",
      "Protein ID: Q8TEW6, Embedding shape: torch.Size([328, 960])\n",
      "Protein ID: O15530, Embedding shape: torch.Size([558, 960])\n",
      "Protein ID: O95704, Embedding shape: torch.Size([488, 960])\n",
      "Protein ID: Q03112, Embedding shape: torch.Size([1232, 960])\n",
      "Protein ID: P22234, Embedding shape: torch.Size([427, 960])\n",
      "Protein ID: Q9GZT8, Embedding shape: torch.Size([379, 960])\n",
      "Protein ID: Q86W54, Embedding shape: torch.Size([207, 960])\n",
      "Protein ID: Q96GA7, Embedding shape: torch.Size([331, 960])\n",
      "Protein ID: Q9Y600, Embedding shape: torch.Size([495, 960])\n",
      "Protein ID: Q5VZ18, Embedding shape: torch.Size([497, 960])\n",
      "Protein ID: Q9H3H1, Embedding shape: torch.Size([469, 960])\n",
      "Protein ID: P27658, Embedding shape: torch.Size([746, 960])\n",
      "Protein ID: P43353, Embedding shape: torch.Size([470, 960])\n",
      "Protein ID: Q9BYR5, Embedding shape: torch.Size([138, 960])\n",
      "Protein ID: P50222, Embedding shape: torch.Size([306, 960])\n",
      "Protein ID: O14569, Embedding shape: torch.Size([224, 960])\n",
      "Protein ID: P10916, Embedding shape: torch.Size([168, 960])\n",
      "Protein ID: Q6P280, Embedding shape: torch.Size([565, 960])\n",
      "Protein ID: Q96JZ2, Embedding shape: torch.Size([354, 960])\n",
      "Protein ID: Q96R05, Embedding shape: torch.Size([136, 960])\n",
      "Protein ID: Q9ULZ1, Embedding shape: torch.Size([79, 960])\n",
      "Protein ID: Q07912, Embedding shape: torch.Size([1040, 960])\n",
      "Protein ID: Q8WXH5, Embedding shape: torch.Size([442, 960])\n",
      "Protein ID: P42684, Embedding shape: torch.Size([1184, 960])\n",
      "Protein ID: P01127, Embedding shape: torch.Size([243, 960])\n",
      "Protein ID: Q96GV9, Embedding shape: torch.Size([208, 960])\n",
      "Protein ID: Q5JRA6, Embedding shape: torch.Size([1502, 960])\n",
      "Protein ID: Q9BPX1, Embedding shape: torch.Size([272, 960])\n",
      "Protein ID: Q5T9L3, Embedding shape: torch.Size([543, 960])\n",
      "Protein ID: Q96A57, Embedding shape: torch.Size([122, 960])\n",
      "Protein ID: Q9Y5E4, Embedding shape: torch.Size([797, 960])\n",
      "Protein ID: Q15154, Embedding shape: torch.Size([1502, 960])\n",
      "Protein ID: Q8IZP0, Embedding shape: torch.Size([510, 960])\n",
      "Protein ID: P13498, Embedding shape: torch.Size([197, 960])\n",
      "Protein ID: Q96SW2, Embedding shape: torch.Size([444, 960])\n",
      "Protein ID: O14641, Embedding shape: torch.Size([738, 960])\n",
      "Protein ID: Q8N7W2, Embedding shape: torch.Size([521, 960])\n",
      "Protein ID: O75208, Embedding shape: torch.Size([320, 960])\n",
      "Protein ID: Q8N7B6, Embedding shape: torch.Size([250, 960])\n",
      "Protein ID: Q92574, Embedding shape: torch.Size([1166, 960])\n",
      "Protein ID: Q8IXS0, Embedding shape: torch.Size([510, 960])\n",
      "Protein ID: P19419, Embedding shape: torch.Size([430, 960])\n",
      "Protein ID: Q8IXK0, Embedding shape: torch.Size([860, 960])\n",
      "Protein ID: Q13895, Embedding shape: torch.Size([439, 960])\n",
      "Protein ID: O75829, Embedding shape: torch.Size([336, 960])\n",
      "Protein ID: Q96KP4, Embedding shape: torch.Size([477, 960])\n",
      "Protein ID: Q14765, Embedding shape: torch.Size([750, 960])\n",
      "Protein ID: P24941, Embedding shape: torch.Size([300, 960])\n",
      "Protein ID: O14777, Embedding shape: torch.Size([644, 960])\n",
      "Protein ID: Q07157, Embedding shape: torch.Size([1502, 960])\n",
      "Protein ID: Q96GC9, Embedding shape: torch.Size([408, 960])\n",
      "Protein ID: P16220, Embedding shape: torch.Size([329, 960])\n",
      "Protein ID: Q147U7, Embedding shape: torch.Size([216, 960])\n",
      "Protein ID: Q15027, Embedding shape: torch.Size([742, 960])\n",
      "Protein ID: Q9NSI6, Embedding shape: torch.Size([1502, 960])\n",
      "Protein ID: O94777, Embedding shape: torch.Size([86, 960])\n",
      "Protein ID: Q8NA61, Embedding shape: torch.Size([450, 960])\n",
      "Protein ID: Q96HT8, Embedding shape: torch.Size([129, 960])\n",
      "Protein ID: Q9NR21, Embedding shape: torch.Size([340, 960])\n",
      "Protein ID: Q14241, Embedding shape: torch.Size([800, 960])\n",
      "Protein ID: O00141, Embedding shape: torch.Size([433, 960])\n",
      "Protein ID: P24522, Embedding shape: torch.Size([167, 960])\n",
      "Protein ID: P29372, Embedding shape: torch.Size([300, 960])\n",
      "Protein ID: O43186, Embedding shape: torch.Size([301, 960])\n",
      "Protein ID: P37198, Embedding shape: torch.Size([524, 960])\n",
      "Protein ID: P55735, Embedding shape: torch.Size([324, 960])\n",
      "Protein ID: Q9P2R3, Embedding shape: torch.Size([1171, 960])\n",
      "Protein ID: P55060, Embedding shape: torch.Size([973, 960])\n",
      "Protein ID: Q96JQ5, Embedding shape: torch.Size([241, 960])\n",
      "Protein ID: P32121, Embedding shape: torch.Size([411, 960])\n",
      "Protein ID: Q15077, Embedding shape: torch.Size([330, 960])\n",
      "Protein ID: A0A0U1RRE5, Embedding shape: torch.Size([70, 960])\n",
      "Protein ID: O95183, Embedding shape: torch.Size([118, 960])\n",
      "Protein ID: P60953, Embedding shape: torch.Size([193, 960])\n",
      "Protein ID: Q14139, Embedding shape: torch.Size([1068, 960])\n",
      "Protein ID: Q7Z434, Embedding shape: torch.Size([542, 960])\n",
      "Protein ID: Q86UE8, Embedding shape: torch.Size([774, 960])\n",
      "Protein ID: Q92985, Embedding shape: torch.Size([505, 960])\n",
      "Protein ID: Q9Y275, Embedding shape: torch.Size([287, 960])\n",
      "Protein ID: O00422, Embedding shape: torch.Size([155, 960])\n",
      "Protein ID: Q9H307, Embedding shape: torch.Size([719, 960])\n",
      "Protein ID: Q86UE4, Embedding shape: torch.Size([584, 960])\n",
      "Protein ID: Q9UKV8, Embedding shape: torch.Size([861, 960])\n",
      "Protein ID: P28340, Embedding shape: torch.Size([1109, 960])\n",
      "Protein ID: Q96S55, Embedding shape: torch.Size([667, 960])\n",
      "Protein ID: Q99558, Embedding shape: torch.Size([949, 960])\n",
      "Protein ID: Q92540, Embedding shape: torch.Size([1139, 960])\n",
      "Protein ID: Q9UPR3, Embedding shape: torch.Size([1018, 960])\n",
      "Protein ID: P67809, Embedding shape: torch.Size([326, 960])\n",
      "Protein ID: Q99697, Embedding shape: torch.Size([319, 960])\n",
      "Protein ID: P23508, Embedding shape: torch.Size([831, 960])\n",
      "Protein ID: Q16531, Embedding shape: torch.Size([1142, 960])\n",
      "Protein ID: Q969U6, Embedding shape: torch.Size([568, 960])\n",
      "Protein ID: Q9H1C4, Embedding shape: torch.Size([599, 960])\n",
      "Protein ID: P06702, Embedding shape: torch.Size([116, 960])\n",
      "Protein ID: O95863, Embedding shape: torch.Size([266, 960])\n",
      "Protein ID: A7MCY6, Embedding shape: torch.Size([617, 960])\n",
      "Protein ID: O96018, Embedding shape: torch.Size([577, 960])\n",
      "Protein ID: Q6FI81, Embedding shape: torch.Size([314, 960])\n",
      "Protein ID: Q9H3K6, Embedding shape: torch.Size([88, 960])\n",
      "Protein ID: P35227, Embedding shape: torch.Size([346, 960])\n",
      "Protein ID: Q8NI77, Embedding shape: torch.Size([900, 960])\n",
      "Protein ID: Q9UJX5, Embedding shape: torch.Size([810, 960])\n",
      "Protein ID: Q8NBW4, Embedding shape: torch.Size([563, 960])\n",
      "Protein ID: Q9UHA4, Embedding shape: torch.Size([126, 960])\n",
      "Protein ID: O60826, Embedding shape: torch.Size([629, 960])\n",
      "Protein ID: Q13618, Embedding shape: torch.Size([770, 960])\n",
      "Protein ID: P61764, Embedding shape: torch.Size([596, 960])\n",
      "Protein ID: Q13283, Embedding shape: torch.Size([468, 960])\n",
      "Protein ID: Q99700, Embedding shape: torch.Size([1315, 960])\n",
      "Protein ID: P13010, Embedding shape: torch.Size([734, 960])\n",
      "Protein ID: P13693, Embedding shape: torch.Size([174, 960])\n",
      "Protein ID: Q9UKT8, Embedding shape: torch.Size([456, 960])\n",
      "Protein ID: Q9Y266, Embedding shape: torch.Size([333, 960])\n",
      "Protein ID: P09651, Embedding shape: torch.Size([374, 960])\n",
      "Protein ID: Q14141, Embedding shape: torch.Size([436, 960])\n",
      "Protein ID: P51572, Embedding shape: torch.Size([248, 960])\n",
      "Protein ID: Q9BUN8, Embedding shape: torch.Size([253, 960])\n",
      "Protein ID: Q8TCX1, Embedding shape: torch.Size([353, 960])\n",
      "Protein ID: P48431, Embedding shape: torch.Size([319, 960])\n",
      "Protein ID: P56817, Embedding shape: torch.Size([503, 960])\n",
      "Protein ID: Q9UNH7, Embedding shape: torch.Size([408, 960])\n",
      "Protein ID: P18124, Embedding shape: torch.Size([250, 960])\n",
      "Protein ID: Q15843, Embedding shape: torch.Size([83, 960])\n",
      "Protein ID: Q86U86, Embedding shape: torch.Size([1502, 960])\n",
      "Protein ID: Q9P2D1, Embedding shape: torch.Size([1502, 960])\n",
      "Protein ID: O43524, Embedding shape: torch.Size([675, 960])\n",
      "Protein ID: P28749, Embedding shape: torch.Size([1070, 960])\n",
      "Protein ID: Q05048, Embedding shape: torch.Size([433, 960])\n",
      "Protein ID: Q9H0E2, Embedding shape: torch.Size([276, 960])\n",
      "Protein ID: P40939, Embedding shape: torch.Size([765, 960])\n",
      "Protein ID: P27348, Embedding shape: torch.Size([247, 960])\n",
      "Protein ID: Q8WXE9, Embedding shape: torch.Size([907, 960])\n",
      "Protein ID: O15144, Embedding shape: torch.Size([302, 960])\n",
      "Protein ID: Q9BR76, Embedding shape: torch.Size([491, 960])\n",
      "Protein ID: P27824, Embedding shape: torch.Size([594, 960])\n",
      "Protein ID: Q9UHC6, Embedding shape: torch.Size([1333, 960])\n",
      "Protein ID: P12931, Embedding shape: torch.Size([538, 960])\n",
      "Protein ID: Q9Y6W8, Embedding shape: torch.Size([201, 960])\n",
      "Protein ID: P00519, Embedding shape: torch.Size([1132, 960])\n",
      "Protein ID: O00206, Embedding shape: torch.Size([841, 960])\n",
      "Protein ID: Q9Y2C9, Embedding shape: torch.Size([798, 960])\n",
      "Protein ID: Q15208, Embedding shape: torch.Size([467, 960])\n",
      "Protein ID: O75152, Embedding shape: torch.Size([812, 960])\n",
      "Protein ID: Q08050, Embedding shape: torch.Size([765, 960])\n",
      "Protein ID: P51617, Embedding shape: torch.Size([714, 960])\n",
      "Protein ID: P39656, Embedding shape: torch.Size([458, 960])\n",
      "Protein ID: Q96A33, Embedding shape: torch.Size([485, 960])\n",
      "Protein ID: O95470, Embedding shape: torch.Size([570, 960])\n",
      "Protein ID: P61006, Embedding shape: torch.Size([209, 960])\n",
      "Protein ID: Q5EBL4, Embedding shape: torch.Size([405, 960])\n",
      "Protein ID: Q04725, Embedding shape: torch.Size([745, 960])\n",
      "Protein ID: Q96N66, Embedding shape: torch.Size([474, 960])\n",
      "Protein ID: Q9Y5X1, Embedding shape: torch.Size([597, 960])\n",
      "Protein ID: Q96KQ4, Embedding shape: torch.Size([1092, 960])\n",
      "Protein ID: P60228, Embedding shape: torch.Size([447, 960])\n",
      "Protein ID: O75330, Embedding shape: torch.Size([726, 960])\n",
      "Protein ID: Q9ULW0, Embedding shape: torch.Size([749, 960])\n",
      "Protein ID: O95714, Embedding shape: torch.Size([1502, 960])\n",
      "Protein ID: Q99615, Embedding shape: torch.Size([496, 960])\n",
      "Protein ID: Q96EV8, Embedding shape: torch.Size([353, 960])\n",
      "Protein ID: P19338, Embedding shape: torch.Size([712, 960])\n",
      "Protein ID: O14672, Embedding shape: torch.Size([750, 960])\n",
      "Protein ID: O95859, Embedding shape: torch.Size([307, 960])\n",
      "Protein ID: Q13422, Embedding shape: torch.Size([521, 960])\n",
      "Protein ID: O15169, Embedding shape: torch.Size([864, 960])\n",
      "Protein ID: Q969R5, Embedding shape: torch.Size([707, 960])\n",
      "Protein ID: Q9H0L4, Embedding shape: torch.Size([618, 960])\n",
      "Protein ID: Q8TAK5, Embedding shape: torch.Size([450, 960])\n",
      "Protein ID: Q13635, Embedding shape: torch.Size([1449, 960])\n",
      "Protein ID: Q96D21, Embedding shape: torch.Size([268, 960])\n",
      "Protein ID: P14324, Embedding shape: torch.Size([421, 960])\n",
      "Protein ID: Q9NRA8, Embedding shape: torch.Size([987, 960])\n",
      "Protein ID: Q15973, Embedding shape: torch.Size([353, 960])\n",
      "Protein ID: Q7Z3S9, Embedding shape: torch.Size([238, 960])\n",
      "Protein ID: O94972, Embedding shape: torch.Size([966, 960])\n",
      "Protein ID: Q7Z2E3, Embedding shape: torch.Size([358, 960])\n",
      "Protein ID: P08865, Embedding shape: torch.Size([297, 960])\n",
      "Protein ID: P0DP24, Embedding shape: torch.Size([151, 960])\n",
      "Protein ID: Q8WUD1, Embedding shape: torch.Size([218, 960])\n",
      "Protein ID: Q68G74, Embedding shape: torch.Size([358, 960])\n",
      "Protein ID: O00291, Embedding shape: torch.Size([1039, 960])\n",
      "Protein ID: O00746, Embedding shape: torch.Size([189, 960])\n",
      "Protein ID: P28332, Embedding shape: torch.Size([370, 960])\n",
      "Protein ID: Q96GG9, Embedding shape: torch.Size([261, 960])\n",
      "Protein ID: O76041, Embedding shape: torch.Size([1016, 960])\n",
      "Protein ID: Q96JN2, Embedding shape: torch.Size([1156, 960])\n",
      "Protein ID: Q15825, Embedding shape: torch.Size([496, 960])\n",
      "Protein ID: Q8IZS5, Embedding shape: torch.Size([233, 960])\n",
      "Protein ID: Q2M2I5, Embedding shape: torch.Size([527, 960])\n",
      "Protein ID: P15531, Embedding shape: torch.Size([154, 960])\n",
      "Protein ID: P51116, Embedding shape: torch.Size([675, 960])\n",
      "Protein ID: O43660, Embedding shape: torch.Size([516, 960])\n",
      "Protein ID: Q6PF05, Embedding shape: torch.Size([363, 960])\n",
      "Protein ID: Q6P1L5, Embedding shape: torch.Size([591, 960])\n",
      "Protein ID: Q9GZQ4, Embedding shape: torch.Size([417, 960])\n",
      "Protein ID: P38432, Embedding shape: torch.Size([578, 960])\n",
      "Protein ID: Q8TCE9, Embedding shape: torch.Size([141, 960])\n",
      "Protein ID: P02647, Embedding shape: torch.Size([269, 960])\n",
      "Protein ID: Q9BRT2, Embedding shape: torch.Size([128, 960])\n",
      "Protein ID: P51570, Embedding shape: torch.Size([394, 960])\n",
      "Protein ID: Q96N96, Embedding shape: torch.Size([654, 960])\n",
      "Protein ID: Q96BR1, Embedding shape: torch.Size([498, 960])\n",
      "Protein ID: P26367, Embedding shape: torch.Size([424, 960])\n",
      "Protein ID: P29317, Embedding shape: torch.Size([978, 960])\n",
      "Protein ID: P0C1Z6, Embedding shape: torch.Size([255, 960])\n",
      "Protein ID: P55199, Embedding shape: torch.Size([623, 960])\n",
      "Protein ID: P54727, Embedding shape: torch.Size([411, 960])\n",
      "Protein ID: P42224, Embedding shape: torch.Size([752, 960])\n",
      "Protein ID: O15273, Embedding shape: torch.Size([169, 960])\n",
      "Protein ID: Q9BYQ6, Embedding shape: torch.Size([197, 960])\n",
      "Protein ID: Q15021, Embedding shape: torch.Size([1403, 960])\n",
      "Protein ID: Q13224, Embedding shape: torch.Size([1486, 960])\n",
      "Protein ID: P17612, Embedding shape: torch.Size([353, 960])\n",
      "Protein ID: P62310, Embedding shape: torch.Size([104, 960])\n",
      "Protein ID: Q9BXM7, Embedding shape: torch.Size([583, 960])\n",
      "Protein ID: P43365, Embedding shape: torch.Size([316, 960])\n",
      "Protein ID: Q13363, Embedding shape: torch.Size([442, 960])\n",
      "Protein ID: P25788, Embedding shape: torch.Size([257, 960])\n",
      "Protein ID: Q9Y297, Embedding shape: torch.Size([607, 960])\n",
      "Protein ID: Q02548, Embedding shape: torch.Size([393, 960])\n",
      "Protein ID: P06396, Embedding shape: torch.Size([784, 960])\n",
      "Protein ID: Q9NRI5, Embedding shape: torch.Size([856, 960])\n",
      "Protein ID: Q9NPI6, Embedding shape: torch.Size([584, 960])\n",
      "Protein ID: P41743, Embedding shape: torch.Size([598, 960])\n",
      "Protein ID: Q96L34, Embedding shape: torch.Size([754, 960])\n",
      "Protein ID: Q96AX9, Embedding shape: torch.Size([1015, 960])\n",
      "Protein ID: Q9UHD2, Embedding shape: torch.Size([731, 960])\n",
      "Protein ID: P26045, Embedding shape: torch.Size([915, 960])\n",
      "Protein ID: Q9ULK5, Embedding shape: torch.Size([523, 960])\n",
      "Protein ID: P46779, Embedding shape: torch.Size([139, 960])\n",
      "Protein ID: A6NED2, Embedding shape: torch.Size([378, 960])\n",
      "Protein ID: Q8N371, Embedding shape: torch.Size([418, 960])\n",
      "Protein ID: Q9H4L4, Embedding shape: torch.Size([576, 960])\n",
      "Protein ID: Q9NXF1, Embedding shape: torch.Size([931, 960])\n",
      "Protein ID: Q9NZJ6, Embedding shape: torch.Size([371, 960])\n",
      "Protein ID: Q9Y697, Embedding shape: torch.Size([459, 960])\n",
      "Protein ID: P00441, Embedding shape: torch.Size([156, 960])\n",
      "Protein ID: P04406, Embedding shape: torch.Size([337, 960])\n",
      "Protein ID: P19525, Embedding shape: torch.Size([553, 960])\n",
      "Protein ID: Q9UL40, Embedding shape: torch.Size([296, 960])\n",
      "Protein ID: Q3KP66, Embedding shape: torch.Size([665, 960])\n",
      "Protein ID: Q9UKB1, Embedding shape: torch.Size([544, 960])\n",
      "Protein ID: P31040, Embedding shape: torch.Size([666, 960])\n",
      "Protein ID: Q9C0C7, Embedding shape: torch.Size([1300, 960])\n",
      "Protein ID: Q9Y4K3, Embedding shape: torch.Size([524, 960])\n",
      "Protein ID: Q8IWT0, Embedding shape: torch.Size([169, 960])\n",
      "Protein ID: P09496, Embedding shape: torch.Size([250, 960])\n",
      "Protein ID: Q9GZX7, Embedding shape: torch.Size([200, 960])\n",
      "Protein ID: O95983, Embedding shape: torch.Size([293, 960])\n",
      "Protein ID: P04233, Embedding shape: torch.Size([298, 960])\n",
      "Protein ID: Q14974, Embedding shape: torch.Size([878, 960])\n",
      "Protein ID: P49407, Embedding shape: torch.Size([420, 960])\n",
      "Protein ID: P04156, Embedding shape: torch.Size([255, 960])\n",
      "Protein ID: O75923, Embedding shape: torch.Size([1502, 960])\n",
      "Protein ID: Q96CV9, Embedding shape: torch.Size([579, 960])\n",
      "Protein ID: O94763, Embedding shape: torch.Size([537, 960])\n",
      "Protein ID: Q9H6T3, Embedding shape: torch.Size([667, 960])\n",
      "Protein ID: P54762, Embedding shape: torch.Size([986, 960])\n",
      "Protein ID: P09172, Embedding shape: torch.Size([619, 960])\n",
      "Protein ID: Q04656, Embedding shape: torch.Size([1502, 960])\n",
      "Protein ID: O14896, Embedding shape: torch.Size([469, 960])\n",
      "Protein ID: Q02556, Embedding shape: torch.Size([428, 960])\n",
      "Protein ID: Q13017, Embedding shape: torch.Size([1502, 960])\n",
      "Protein ID: Q8IZD9, Embedding shape: torch.Size([1502, 960])\n",
      "Protein ID: P60520, Embedding shape: torch.Size([119, 960])\n",
      "Protein ID: Q8IWB6, Embedding shape: torch.Size([1499, 960])\n",
      "Protein ID: O15524, Embedding shape: torch.Size([213, 960])\n",
      "Protein ID: P27986, Embedding shape: torch.Size([726, 960])\n",
      "Protein ID: Q96B02, Embedding shape: torch.Size([153, 960])\n",
      "Protein ID: Q92569, Embedding shape: torch.Size([463, 960])\n",
      "Protein ID: O00267, Embedding shape: torch.Size([1089, 960])\n",
      "Protein ID: Q9Y6D9, Embedding shape: torch.Size([720, 960])\n",
      "Protein ID: Q9UGJ1, Embedding shape: torch.Size([669, 960])\n",
      "Protein ID: Q9UKJ5, Embedding shape: torch.Size([167, 960])\n",
      "Protein ID: O95500, Embedding shape: torch.Size([241, 960])\n",
      "Protein ID: Q9HB21, Embedding shape: torch.Size([406, 960])\n",
      "Protein ID: Q15645, Embedding shape: torch.Size([434, 960])\n",
      "Protein ID: Q9BV99, Embedding shape: torch.Size([261, 960])\n",
      "Protein ID: O76003, Embedding shape: torch.Size([337, 960])\n",
      "Protein ID: P15976, Embedding shape: torch.Size([415, 960])\n",
      "Protein ID: Q7Z6G3, Embedding shape: torch.Size([388, 960])\n",
      "Protein ID: Q9Y6C2, Embedding shape: torch.Size([1018, 960])\n",
      "Protein ID: Q9UI95, Embedding shape: torch.Size([213, 960])\n",
      "Protein ID: Q08379, Embedding shape: torch.Size([1004, 960])\n",
      "Protein ID: Q13077, Embedding shape: torch.Size([418, 960])\n",
      "Protein ID: P35590, Embedding shape: torch.Size([1140, 960])\n",
      "Protein ID: Q99750, Embedding shape: torch.Size([248, 960])\n",
      "Protein ID: Q9H4I2, Embedding shape: torch.Size([958, 960])\n",
      "Protein ID: Q9NP31, Embedding shape: torch.Size([391, 960])\n",
      "Protein ID: Q8IUQ4, Embedding shape: torch.Size([284, 960])\n",
      "Protein ID: Q9BYG5, Embedding shape: torch.Size([374, 960])\n",
      "Protein ID: Q14738, Embedding shape: torch.Size([604, 960])\n",
      "Protein ID: Q8ND90, Embedding shape: torch.Size([355, 960])\n",
      "Protein ID: O95073, Embedding shape: torch.Size([301, 960])\n",
      "Protein ID: P25786, Embedding shape: torch.Size([265, 960])\n",
      "Protein ID: P14770, Embedding shape: torch.Size([179, 960])\n",
      "Protein ID: Q92624, Embedding shape: torch.Size([587, 960])\n",
      "Protein ID: O43257, Embedding shape: torch.Size([156, 960])\n",
      "Protein ID: O60880, Embedding shape: torch.Size([130, 960])\n",
      "Protein ID: Q96MA1, Embedding shape: torch.Size([344, 960])\n",
      "Protein ID: Q96PV6, Embedding shape: torch.Size([802, 960])\n",
      "Protein ID: Q8IYF3, Embedding shape: torch.Size([942, 960])\n",
      "Protein ID: Q9Y333, Embedding shape: torch.Size([97, 960])\n",
      "Protein ID: P41182, Embedding shape: torch.Size([708, 960])\n",
      "Protein ID: P62993, Embedding shape: torch.Size([219, 960])\n",
      "Protein ID: Q8IZQ1, Embedding shape: torch.Size([1502, 960])\n",
      "Protein ID: P35372, Embedding shape: torch.Size([402, 960])\n",
      "Protein ID: Q9H3M0, Embedding shape: torch.Size([496, 960])\n",
      "Protein ID: P06400, Embedding shape: torch.Size([930, 960])\n",
      "Protein ID: Q5R372, Embedding shape: torch.Size([817, 960])\n",
      "Protein ID: P22681, Embedding shape: torch.Size([908, 960])\n",
      "Protein ID: P42229, Embedding shape: torch.Size([796, 960])\n",
      "Protein ID: Q9Y3I0, Embedding shape: torch.Size([507, 960])\n",
      "Protein ID: O75604, Embedding shape: torch.Size([607, 960])\n",
      "Protein ID: P34897, Embedding shape: torch.Size([506, 960])\n",
      "Protein ID: Q9UHP7, Embedding shape: torch.Size([193, 960])\n",
      "Protein ID: O15287, Embedding shape: torch.Size([624, 960])\n",
      "Protein ID: O43561, Embedding shape: torch.Size([264, 960])\n",
      "Protein ID: Q8N6L0, Embedding shape: torch.Size([564, 960])\n",
      "Protein ID: P35568, Embedding shape: torch.Size([1244, 960])\n",
      "Protein ID: P49757, Embedding shape: torch.Size([653, 960])\n",
      "Protein ID: P35711, Embedding shape: torch.Size([765, 960])\n",
      "Protein ID: Q03989, Embedding shape: torch.Size([596, 960])\n",
      "Protein ID: Q8IYA8, Embedding shape: torch.Size([596, 960])\n",
      "Protein ID: Q5H9J7, Embedding shape: torch.Size([113, 960])\n",
      "Protein ID: P26651, Embedding shape: torch.Size([328, 960])\n",
      "Protein ID: Q13643, Embedding shape: torch.Size([282, 960])\n",
      "Protein ID: Q9H6L4, Embedding shape: torch.Size([200, 960])\n",
      "Protein ID: Q9UBB9, Embedding shape: torch.Size([839, 960])\n",
      "Protein ID: O15460, Embedding shape: torch.Size([537, 960])\n",
      "Protein ID: Q8IZW8, Embedding shape: torch.Size([717, 960])\n",
      "Protein ID: Q9UIH9, Embedding shape: torch.Size([418, 960])\n",
      "Protein ID: Q9UKG1, Embedding shape: torch.Size([711, 960])\n",
      "Protein ID: P60880, Embedding shape: torch.Size([208, 960])\n",
      "Protein ID: Q9Y3C0, Embedding shape: torch.Size([196, 960])\n",
      "Protein ID: P98170, Embedding shape: torch.Size([499, 960])\n",
      "Protein ID: Q9BRX2, Embedding shape: torch.Size([387, 960])\n",
      "Protein ID: Q3KNS6, Embedding shape: torch.Size([434, 960])\n",
      "Protein ID: Q9NR55, Embedding shape: torch.Size([129, 960])\n",
      "Protein ID: Q9Y2V7, Embedding shape: torch.Size([659, 960])\n",
      "Protein ID: P43626, Embedding shape: torch.Size([350, 960])\n",
      "Protein ID: O95551, Embedding shape: torch.Size([364, 960])\n",
      "Protein ID: Q9BX70, Embedding shape: torch.Size([527, 960])\n",
      "Protein ID: P13646, Embedding shape: torch.Size([460, 960])\n",
      "Protein ID: Q13485, Embedding shape: torch.Size([554, 960])\n",
      "Protein ID: Q96F07, Embedding shape: torch.Size([1280, 960])\n",
      "Protein ID: P36406, Embedding shape: torch.Size([576, 960])\n",
      "Protein ID: Q9NTK1, Embedding shape: torch.Size([214, 960])\n",
      "Protein ID: P04198, Embedding shape: torch.Size([466, 960])\n",
      "Protein ID: Q13287, Embedding shape: torch.Size([309, 960])\n",
      "Protein ID: Q6ZMI0, Embedding shape: torch.Size([782, 960])\n",
      "Protein ID: Q49A88, Embedding shape: torch.Size([955, 960])\n",
      "Protein ID: Q7L591, Embedding shape: torch.Size([498, 960])\n",
      "Protein ID: Q9P104, Embedding shape: torch.Size([308, 960])\n",
      "Protein ID: Q96PX9, Embedding shape: torch.Size([1273, 960])\n",
      "Protein ID: Q9NYJ8, Embedding shape: torch.Size([695, 960])\n",
      "Protein ID: Q9Y6K9, Embedding shape: torch.Size([421, 960])\n",
      "Protein ID: Q96IK5, Embedding shape: torch.Size([517, 960])\n",
      "Protein ID: Q8N485, Embedding shape: torch.Size([284, 960])\n",
      "Protein ID: Q8NEU8, Embedding shape: torch.Size([666, 960])\n",
      "Protein ID: O14543, Embedding shape: torch.Size([227, 960])\n",
      "Protein ID: Q13061, Embedding shape: torch.Size([731, 960])\n",
      "Protein ID: Q8NEZ4, Embedding shape: torch.Size([1502, 960])\n",
      "Protein ID: O43889, Embedding shape: torch.Size([373, 960])\n",
      "Protein ID: P55058, Embedding shape: torch.Size([495, 960])\n",
      "Protein ID: Q15562, Embedding shape: torch.Size([449, 960])\n",
      "Protein ID: Q9NXC5, Embedding shape: torch.Size([877, 960])\n",
      "Protein ID: Q9NWS9, Embedding shape: torch.Size([452, 960])\n",
      "Protein ID: P17787, Embedding shape: torch.Size([504, 960])\n",
      "Protein ID: P43681, Embedding shape: torch.Size([629, 960])\n",
      "Protein ID: B2RUY7, Embedding shape: torch.Size([224, 960])\n",
      "Protein ID: Q96NZ1, Embedding shape: torch.Size([519, 960])\n",
      "Protein ID: Q16401, Embedding shape: torch.Size([506, 960])\n",
      "Protein ID: O00463, Embedding shape: torch.Size([559, 960])\n",
      "Protein ID: Q9Y6G1, Embedding shape: torch.Size([101, 960])\n",
      "Protein ID: Q9UN19, Embedding shape: torch.Size([282, 960])\n",
      "Protein ID: Q13829, Embedding shape: torch.Size([318, 960])\n",
      "Protein ID: Q9UN67, Embedding shape: torch.Size([802, 960])\n",
      "Protein ID: Q8NEC7, Embedding shape: torch.Size([635, 960])\n",
      "Protein ID: P33993, Embedding shape: torch.Size([721, 960])\n",
      "Protein ID: Q0VDD7, Embedding shape: torch.Size([670, 960])\n",
      "Protein ID: Q7L2Z9, Embedding shape: torch.Size([270, 960])\n",
      "Protein ID: P15622, Embedding shape: torch.Size([562, 960])\n",
      "Protein ID: Q9H668, Embedding shape: torch.Size([370, 960])\n",
      "Protein ID: Q9UFW8, Embedding shape: torch.Size([169, 960])\n",
      "Protein ID: Q96JC1, Embedding shape: torch.Size([888, 960])\n",
      "Protein ID: Q9NVE4, Embedding shape: torch.Size([851, 960])\n",
      "Protein ID: Q7Z417, Embedding shape: torch.Size([697, 960])\n",
      "Protein ID: P60409, Embedding shape: torch.Size([372, 960])\n",
      "Protein ID: Q9H1M0, Embedding shape: torch.Size([186, 960])\n",
      "Protein ID: P35219, Embedding shape: torch.Size([292, 960])\n",
      "Protein ID: Q5TCQ9, Embedding shape: torch.Size([1483, 960])\n",
      "Protein ID: Q9UBX0, Embedding shape: torch.Size([187, 960])\n",
      "Protein ID: P18754, Embedding shape: torch.Size([423, 960])\n",
      "Protein ID: P48729, Embedding shape: torch.Size([339, 960])\n",
      "Protein ID: P35520, Embedding shape: torch.Size([553, 960])\n",
      "Protein ID: P56545, Embedding shape: torch.Size([447, 960])\n",
      "Protein ID: Q9Y6A5, Embedding shape: torch.Size([840, 960])\n",
      "Protein ID: Q15025, Embedding shape: torch.Size([638, 960])\n",
      "Protein ID: Q9HBI0, Embedding shape: torch.Size([333, 960])\n",
      "Protein ID: Q9UH92, Embedding shape: torch.Size([300, 960])\n",
      "Protein ID: Q9H0V1, Embedding shape: torch.Size([699, 960])\n",
      "Protein ID: Q9UQR1, Embedding shape: torch.Size([796, 960])\n",
      "Protein ID: Q96A00, Embedding shape: torch.Size([149, 960])\n",
      "Protein ID: P26583, Embedding shape: torch.Size([211, 960])\n",
      "Protein ID: Q9NRW1, Embedding shape: torch.Size([210, 960])\n",
      "Protein ID: Q9HAT0, Embedding shape: torch.Size([214, 960])\n",
      "Protein ID: P35638, Embedding shape: torch.Size([171, 960])\n",
      "Protein ID: O75934, Embedding shape: torch.Size([227, 960])\n",
      "Protein ID: Q9BZW7, Embedding shape: torch.Size([700, 960])\n",
      "Protein ID: Q9Y4J8, Embedding shape: torch.Size([745, 960])\n",
      "Protein ID: Q8N878, Embedding shape: torch.Size([551, 960])\n",
      "Protein ID: Q9Y237, Embedding shape: torch.Size([133, 960])\n",
      "Protein ID: Q12929, Embedding shape: torch.Size([824, 960])\n",
      "Protein ID: Q96GT9, Embedding shape: torch.Size([113, 960])\n",
      "Protein ID: P06239, Embedding shape: torch.Size([511, 960])\n",
      "Protein ID: P49137, Embedding shape: torch.Size([402, 960])\n",
      "Protein ID: Q8N5U6, Embedding shape: torch.Size([813, 960])\n",
      "Protein ID: Q9Y3P9, Embedding shape: torch.Size([1071, 960])\n",
      "Protein ID: Q9H0P0, Embedding shape: torch.Size([338, 960])\n",
      "Protein ID: Q15672, Embedding shape: torch.Size([204, 960])\n",
      "Protein ID: Q9H078, Embedding shape: torch.Size([709, 960])\n",
      "Protein ID: Q9NP98, Embedding shape: torch.Size([301, 960])\n",
      "Protein ID: P13725, Embedding shape: torch.Size([254, 960])\n",
      "Protein ID: Q03181, Embedding shape: torch.Size([443, 960])\n",
      "Protein ID: P52333, Embedding shape: torch.Size([1126, 960])\n",
      "Protein ID: P20936, Embedding shape: torch.Size([1049, 960])\n",
      "Protein ID: Q9NRM7, Embedding shape: torch.Size([1090, 960])\n",
      "Protein ID: P51911, Embedding shape: torch.Size([299, 960])\n",
      "Protein ID: P68402, Embedding shape: torch.Size([231, 960])\n",
      "Protein ID: Q96CJ1, Embedding shape: torch.Size([262, 960])\n",
      "Protein ID: O95997, Embedding shape: torch.Size([204, 960])\n",
      "Protein ID: P04271, Embedding shape: torch.Size([94, 960])\n",
      "Protein ID: Q92843, Embedding shape: torch.Size([195, 960])\n",
      "Protein ID: Q5VWN6, Embedding shape: torch.Size([1502, 960])\n",
      "Protein ID: P43897, Embedding shape: torch.Size([327, 960])\n",
      "Protein ID: Q9BZL4, Embedding shape: torch.Size([784, 960])\n",
      "Protein ID: Q99645, Embedding shape: torch.Size([324, 960])\n",
      "Protein ID: O14669, Embedding shape: torch.Size([204, 960])\n",
      "Protein ID: Q18PE1, Embedding shape: torch.Size([506, 960])\n",
      "Protein ID: Q7L3V2, Embedding shape: torch.Size([366, 960])\n",
      "Protein ID: Q96D09, Embedding shape: torch.Size([840, 960])\n",
      "Protein ID: O60573, Embedding shape: torch.Size([247, 960])\n",
      "Protein ID: Q9BT43, Embedding shape: torch.Size([220, 960])\n",
      "Protein ID: Q8N6T3, Embedding shape: torch.Size([408, 960])\n",
      "Protein ID: Q8WVB6, Embedding shape: torch.Size([977, 960])\n",
      "Protein ID: Q05397, Embedding shape: torch.Size([1054, 960])\n",
      "Protein ID: P56279, Embedding shape: torch.Size([116, 960])\n",
      "Protein ID: Q96MF2, Embedding shape: torch.Size([366, 960])\n",
      "Protein ID: Q32MZ4, Embedding shape: torch.Size([810, 960])\n",
      "Protein ID: Q9Y2X9, Embedding shape: torch.Size([897, 960])\n",
      "Protein ID: P16591, Embedding shape: torch.Size([824, 960])\n",
      "Protein ID: Q8WVF5, Embedding shape: torch.Size([261, 960])\n",
      "Protein ID: P50570, Embedding shape: torch.Size([872, 960])\n",
      "Protein ID: Q8N9S9, Embedding shape: torch.Size([442, 960])\n",
      "Protein ID: Q9H9Y6, Embedding shape: torch.Size([1137, 960])\n",
      "Protein ID: Q9UBN7, Embedding shape: torch.Size([1217, 960])\n",
      "Protein ID: Q5BJH2, Embedding shape: torch.Size([167, 960])\n",
      "Protein ID: Q99504, Embedding shape: torch.Size([575, 960])\n",
      "Protein ID: Q96T49, Embedding shape: torch.Size([569, 960])\n",
      "Protein ID: O00560, Embedding shape: torch.Size([300, 960])\n",
      "Protein ID: Q14152, Embedding shape: torch.Size([1384, 960])\n",
      "Protein ID: Q9UJ70, Embedding shape: torch.Size([346, 960])\n",
      "Protein ID: Q5VWX1, Embedding shape: torch.Size([351, 960])\n",
      "Protein ID: Q9BUK0, Embedding shape: torch.Size([87, 960])\n"
     ]
    }
   ],
   "source": [
    "for key, value in protein_embeddings.items():\n",
    "    print(f\"Protein ID: {key}, Embedding shape: {value.shape}\")"
   ]
  }
 ],
 "metadata": {
  "kernelspec": {
   "display_name": "esm",
   "language": "python",
   "name": "python3"
  },
  "language_info": {
   "codemirror_mode": {
    "name": "ipython",
    "version": 3
   },
   "file_extension": ".py",
   "mimetype": "text/x-python",
   "name": "python",
   "nbconvert_exporter": "python",
   "pygments_lexer": "ipython3",
   "version": "3.10.16"
  }
 },
 "nbformat": 4,
 "nbformat_minor": 2
}
